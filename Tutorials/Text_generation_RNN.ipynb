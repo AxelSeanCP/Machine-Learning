{
  "nbformat": 4,
  "nbformat_minor": 0,
  "metadata": {
    "colab": {
      "provenance": [],
      "gpuType": "T4"
    },
    "kernelspec": {
      "name": "python3",
      "display_name": "Python 3"
    },
    "language_info": {
      "name": "python"
    },
    "accelerator": "GPU"
  },
  "cells": [
    {
      "cell_type": "markdown",
      "source": [
        "[link tutorial](https://www.tensorflow.org/text/tutorials/text_generation)"
      ],
      "metadata": {
        "id": "n18vWhZP2ZCl"
      }
    },
    {
      "cell_type": "markdown",
      "source": [
        "# Setup"
      ],
      "metadata": {
        "id": "f9o1aSiuTjo8"
      }
    },
    {
      "cell_type": "markdown",
      "source": [
        "## Import Libaries"
      ],
      "metadata": {
        "id": "ZubaZ4hxTu_5"
      }
    },
    {
      "cell_type": "code",
      "execution_count": 1,
      "metadata": {
        "id": "3OcqrtPKTUKe"
      },
      "outputs": [],
      "source": [
        "import tensorflow as tf\n",
        "\n",
        "import numpy as np\n",
        "import os\n",
        "import time"
      ]
    },
    {
      "cell_type": "markdown",
      "source": [
        "## Download the Shakespeare dataset"
      ],
      "metadata": {
        "id": "mQgrlLASTxak"
      }
    },
    {
      "cell_type": "code",
      "source": [
        "path_to_file = tf.keras.utils.get_file('shakespeare.txt', 'https://storage.googleapis.com/download.tensorflow.org/data/shakespeare.txt')"
      ],
      "metadata": {
        "id": "actkgO8UToU_",
        "colab": {
          "base_uri": "https://localhost:8080/"
        },
        "outputId": "e650f1a3-21ec-4b90-86a0-231bcd60aaf0"
      },
      "execution_count": 2,
      "outputs": [
        {
          "output_type": "stream",
          "name": "stdout",
          "text": [
            "Downloading data from https://storage.googleapis.com/download.tensorflow.org/data/shakespeare.txt\n",
            "1115394/1115394 [==============================] - 0s 0us/step\n"
          ]
        }
      ]
    },
    {
      "cell_type": "markdown",
      "source": [
        "## Read the data\n",
        "first, look in the text:"
      ],
      "metadata": {
        "id": "aqUMYgr1Un1h"
      }
    },
    {
      "cell_type": "code",
      "source": [
        "# Read, then decode for py2 compat.\n",
        "text = open(path_to_file, 'rb').read().decode(encoding='utf-8')\n",
        "# Length of text is the number of characters in it\n",
        "print(f'Length of text: {len(text)} characters')"
      ],
      "metadata": {
        "id": "TkOGVYXkUmMu",
        "colab": {
          "base_uri": "https://localhost:8080/"
        },
        "outputId": "460b9366-df97-40c1-a12b-06dc14d8ecf2"
      },
      "execution_count": 3,
      "outputs": [
        {
          "output_type": "stream",
          "name": "stdout",
          "text": [
            "Length of text: 1115394 characters\n"
          ]
        }
      ]
    },
    {
      "cell_type": "code",
      "source": [
        "# Take a look of the first 250 characters in the text\n",
        "print(text[:250])"
      ],
      "metadata": {
        "id": "T10tNMSPVUyZ",
        "colab": {
          "base_uri": "https://localhost:8080/"
        },
        "outputId": "f9ab8aab-aafb-44e1-f1d2-3ebdd7bb8ae4"
      },
      "execution_count": 4,
      "outputs": [
        {
          "output_type": "stream",
          "name": "stdout",
          "text": [
            "First Citizen:\n",
            "Before we proceed any further, hear me speak.\n",
            "\n",
            "All:\n",
            "Speak, speak.\n",
            "\n",
            "First Citizen:\n",
            "You are all resolved rather to die than to famish?\n",
            "\n",
            "All:\n",
            "Resolved. resolved.\n",
            "\n",
            "First Citizen:\n",
            "First, you know Caius Marcius is chief enemy to the people.\n",
            "\n"
          ]
        }
      ]
    },
    {
      "cell_type": "code",
      "source": [
        "# The unique characters in the file\n",
        "vocab = sorted(set(text))\n",
        "print(f'{len(vocab)} unique characters')"
      ],
      "metadata": {
        "colab": {
          "base_uri": "https://localhost:8080/"
        },
        "id": "9ZMV4oKq2yk9",
        "outputId": "3d44d602-ce13-4400-e864-19e9200ec29f"
      },
      "execution_count": 5,
      "outputs": [
        {
          "output_type": "stream",
          "name": "stdout",
          "text": [
            "65 unique characters\n"
          ]
        }
      ]
    },
    {
      "cell_type": "markdown",
      "source": [
        "# Process the text"
      ],
      "metadata": {
        "id": "Ql_aZUMy3DPw"
      }
    },
    {
      "cell_type": "markdown",
      "source": [
        "## Vectorize the text\n",
        "Before training, you need to convert the strings to a numerical representation.\n",
        "\n",
        "The `tf.keras.layers.StringLookup` layer can convert each character into a numeric ID. It just needs the text to be split into tokens first."
      ],
      "metadata": {
        "id": "pW2lWo2t3Fd7"
      }
    },
    {
      "cell_type": "code",
      "source": [
        "example_texts = ['abcdefg', 'xyz']\n",
        "\n",
        "chars = tf.strings.unicode_split(example_texts, input_encoding='UTF-8')\n",
        "chars"
      ],
      "metadata": {
        "colab": {
          "base_uri": "https://localhost:8080/"
        },
        "id": "GV5XPVLS2_NU",
        "outputId": "09f1625f-bbcc-4015-e4d0-fab57e68a91c"
      },
      "execution_count": 6,
      "outputs": [
        {
          "output_type": "execute_result",
          "data": {
            "text/plain": [
              "<tf.RaggedTensor [[b'a', b'b', b'c', b'd', b'e', b'f', b'g'], [b'x', b'y', b'z']]>"
            ]
          },
          "metadata": {},
          "execution_count": 6
        }
      ]
    },
    {
      "cell_type": "markdown",
      "source": [
        "Now create the `tf.keras.layers.StringLookup` layer:"
      ],
      "metadata": {
        "id": "MYsVz1mp4foI"
      }
    },
    {
      "cell_type": "code",
      "source": [
        "ids_from_chars = tf.keras.layers.StringLookup(\n",
        "    vocabulary=list(vocab),\n",
        "    mask_token=None\n",
        ")"
      ],
      "metadata": {
        "id": "pTf5GLH74d3p"
      },
      "execution_count": 7,
      "outputs": []
    },
    {
      "cell_type": "markdown",
      "source": [
        "It converts from tokens to characters IDs"
      ],
      "metadata": {
        "id": "jSCnR7RR40Cv"
      }
    },
    {
      "cell_type": "code",
      "source": [
        "ids = ids_from_chars(chars)\n",
        "ids"
      ],
      "metadata": {
        "colab": {
          "base_uri": "https://localhost:8080/"
        },
        "id": "vtF9mZ-w4y_Y",
        "outputId": "fb6347c0-8cc8-434a-e7b6-bf7436b95e16"
      },
      "execution_count": 8,
      "outputs": [
        {
          "output_type": "execute_result",
          "data": {
            "text/plain": [
              "<tf.RaggedTensor [[40, 41, 42, 43, 44, 45, 46], [63, 64, 65]]>"
            ]
          },
          "metadata": {},
          "execution_count": 8
        }
      ]
    },
    {
      "cell_type": "markdown",
      "source": [
        "Since the goal of this tutorial is to generate text, it will also be important to invert this representation and recover human-readable strings from it. For this you can use `tf.keras.layers.StringLookup(..., invert=True)`."
      ],
      "metadata": {
        "id": "8sclgg8A5BB4"
      }
    },
    {
      "cell_type": "markdown",
      "source": [
        "> Note: Here instead of passing the original vocabulary generated with **sorted(set(text))** use the **get_vocabulary()** method of the **tf.keras.layers.StringLookup** layer so that the [UNK] tokens is set the same way."
      ],
      "metadata": {
        "id": "RYqhf_FG5SYe"
      }
    },
    {
      "cell_type": "code",
      "source": [
        "chars_from_ids = tf.keras.layers.StringLookup(\n",
        "    vocabulary=ids_from_chars.get_vocabulary(),\n",
        "    invert=True,\n",
        "    mask_token=None\n",
        ")"
      ],
      "metadata": {
        "id": "60GmcnGN463F"
      },
      "execution_count": 9,
      "outputs": []
    },
    {
      "cell_type": "markdown",
      "source": [
        "This layer recovers the characters from the vectors of IDs, and returns them as a `tf.RaggedTensor` of characters:"
      ],
      "metadata": {
        "id": "XQS9Dbld6HiH"
      }
    },
    {
      "cell_type": "code",
      "source": [
        "chars = chars_from_ids(ids)\n",
        "chars"
      ],
      "metadata": {
        "colab": {
          "base_uri": "https://localhost:8080/"
        },
        "id": "jmEXMrqj6EfR",
        "outputId": "fc701f34-eb69-4d5e-ec36-e03afa1e8fc7"
      },
      "execution_count": 10,
      "outputs": [
        {
          "output_type": "execute_result",
          "data": {
            "text/plain": [
              "<tf.RaggedTensor [[b'a', b'b', b'c', b'd', b'e', b'f', b'g'], [b'x', b'y', b'z']]>"
            ]
          },
          "metadata": {},
          "execution_count": 10
        }
      ]
    },
    {
      "cell_type": "markdown",
      "source": [
        "You can `tf.strings.reduce_join` to join the characters back into strings."
      ],
      "metadata": {
        "id": "9k2B_-996SDx"
      }
    },
    {
      "cell_type": "code",
      "source": [
        "tf.strings.reduce_join(chars, axis=-1)"
      ],
      "metadata": {
        "colab": {
          "base_uri": "https://localhost:8080/"
        },
        "id": "maRL6k8F6NKB",
        "outputId": "46e6fa14-4a78-4c8e-a596-ca9106a96be7"
      },
      "execution_count": 11,
      "outputs": [
        {
          "output_type": "execute_result",
          "data": {
            "text/plain": [
              "<tf.Tensor: shape=(2,), dtype=string, numpy=array([b'abcdefg', b'xyz'], dtype=object)>"
            ]
          },
          "metadata": {},
          "execution_count": 11
        }
      ]
    },
    {
      "cell_type": "code",
      "source": [
        "def text_from_ids(ids):\n",
        "  return tf.strings.reduce_join(chars_from_ids(ids), axis=-1)"
      ],
      "metadata": {
        "id": "lkpo062O6aOk"
      },
      "execution_count": 12,
      "outputs": []
    },
    {
      "cell_type": "markdown",
      "source": [
        "## The prediction task\n",
        "Given a character, or a sequence of characters, what is the most probable next character? This is the task you're training the model to perform. The input to the model will be a sequence of characters, and you train the model to predict the output—the following character at each time step.\n",
        "\n",
        "Since RNNs maintain an internal state that depends on the previously seen elements, given all the characters computed until this moment, what is the next character?"
      ],
      "metadata": {
        "id": "RKKrpdCf8RXp"
      }
    },
    {
      "cell_type": "markdown",
      "source": [
        "## Create training examples and targets"
      ],
      "metadata": {
        "id": "0xn6YR3H8CYK"
      }
    },
    {
      "cell_type": "code",
      "source": [
        "all_ids = ids_from_chars(tf.strings.unicode_split(text, 'UTF-8'))\n",
        "all_ids"
      ],
      "metadata": {
        "id": "mz-sPikd6kdr",
        "colab": {
          "base_uri": "https://localhost:8080/"
        },
        "outputId": "78d4e092-fda6-42be-f63b-1a126329d8b5"
      },
      "execution_count": 13,
      "outputs": [
        {
          "output_type": "execute_result",
          "data": {
            "text/plain": [
              "<tf.Tensor: shape=(1115394,), dtype=int64, numpy=array([19, 48, 57, ..., 46,  9,  1])>"
            ]
          },
          "metadata": {},
          "execution_count": 13
        }
      ]
    },
    {
      "cell_type": "code",
      "source": [
        "ids_dataset = tf.data.Dataset.from_tensor_slices(all_ids)"
      ],
      "metadata": {
        "id": "WCg3olzH8htu"
      },
      "execution_count": 14,
      "outputs": []
    },
    {
      "cell_type": "code",
      "source": [
        "for ids in ids_dataset.take(10):\n",
        "  print(chars_from_ids(ids).numpy().decode('UTF-8'))"
      ],
      "metadata": {
        "colab": {
          "base_uri": "https://localhost:8080/"
        },
        "id": "d_B8dW-X8s39",
        "outputId": "871dae5a-2e2a-4133-e13d-80c74c8fc807"
      },
      "execution_count": 15,
      "outputs": [
        {
          "output_type": "stream",
          "name": "stdout",
          "text": [
            "F\n",
            "i\n",
            "r\n",
            "s\n",
            "t\n",
            " \n",
            "C\n",
            "i\n",
            "t\n",
            "i\n"
          ]
        }
      ]
    },
    {
      "cell_type": "code",
      "source": [
        "seq_length = 100"
      ],
      "metadata": {
        "id": "agWDcmD182Pz"
      },
      "execution_count": 16,
      "outputs": []
    },
    {
      "cell_type": "markdown",
      "source": [
        "The `batch` method lets you easily convert these individual characters to sequences of the desired size"
      ],
      "metadata": {
        "id": "j-ruW-P89LsS"
      }
    },
    {
      "cell_type": "code",
      "source": [
        "sequences = ids_dataset.batch(seq_length+1, drop_remainder=True)\n",
        "\n",
        "for seq in sequences.take(1):\n",
        "  print(chars_from_ids(seq))"
      ],
      "metadata": {
        "colab": {
          "base_uri": "https://localhost:8080/"
        },
        "id": "stszjUw49J4Z",
        "outputId": "b2a1c9d1-51f2-433b-e974-f86983f1e577"
      },
      "execution_count": 17,
      "outputs": [
        {
          "output_type": "stream",
          "name": "stdout",
          "text": [
            "tf.Tensor(\n",
            "[b'F' b'i' b'r' b's' b't' b' ' b'C' b'i' b't' b'i' b'z' b'e' b'n' b':'\n",
            " b'\\n' b'B' b'e' b'f' b'o' b'r' b'e' b' ' b'w' b'e' b' ' b'p' b'r' b'o'\n",
            " b'c' b'e' b'e' b'd' b' ' b'a' b'n' b'y' b' ' b'f' b'u' b'r' b't' b'h'\n",
            " b'e' b'r' b',' b' ' b'h' b'e' b'a' b'r' b' ' b'm' b'e' b' ' b's' b'p'\n",
            " b'e' b'a' b'k' b'.' b'\\n' b'\\n' b'A' b'l' b'l' b':' b'\\n' b'S' b'p' b'e'\n",
            " b'a' b'k' b',' b' ' b's' b'p' b'e' b'a' b'k' b'.' b'\\n' b'\\n' b'F' b'i'\n",
            " b'r' b's' b't' b' ' b'C' b'i' b't' b'i' b'z' b'e' b'n' b':' b'\\n' b'Y'\n",
            " b'o' b'u' b' '], shape=(101,), dtype=string)\n"
          ]
        }
      ]
    },
    {
      "cell_type": "code",
      "source": [
        "for seq in sequences.take(5):\n",
        "  print(text_from_ids(seq).numpy())"
      ],
      "metadata": {
        "colab": {
          "base_uri": "https://localhost:8080/"
        },
        "id": "P95rVIcv9ZD5",
        "outputId": "a49e9c1e-820e-4d6f-80c0-140efd0654a1"
      },
      "execution_count": 18,
      "outputs": [
        {
          "output_type": "stream",
          "name": "stdout",
          "text": [
            "b'First Citizen:\\nBefore we proceed any further, hear me speak.\\n\\nAll:\\nSpeak, speak.\\n\\nFirst Citizen:\\nYou '\n",
            "b'are all resolved rather to die than to famish?\\n\\nAll:\\nResolved. resolved.\\n\\nFirst Citizen:\\nFirst, you k'\n",
            "b\"now Caius Marcius is chief enemy to the people.\\n\\nAll:\\nWe know't, we know't.\\n\\nFirst Citizen:\\nLet us ki\"\n",
            "b\"ll him, and we'll have corn at our own price.\\nIs't a verdict?\\n\\nAll:\\nNo more talking on't; let it be d\"\n",
            "b'one: away, away!\\n\\nSecond Citizen:\\nOne word, good citizens.\\n\\nFirst Citizen:\\nWe are accounted poor citi'\n"
          ]
        }
      ]
    },
    {
      "cell_type": "code",
      "source": [
        "def split_input_target(sequence):\n",
        "  input_text = sequence[:-1]\n",
        "  target_text = sequence[1:]\n",
        "  return input_text, target_text"
      ],
      "metadata": {
        "id": "IFKQ6QVp9wDi"
      },
      "execution_count": 19,
      "outputs": []
    },
    {
      "cell_type": "code",
      "source": [
        "split_input_target(list(\"Tensorflow\"))"
      ],
      "metadata": {
        "colab": {
          "base_uri": "https://localhost:8080/"
        },
        "id": "TcJFzCmU_U1B",
        "outputId": "fcae3576-102f-4f8c-c210-8940dcf340c6"
      },
      "execution_count": 20,
      "outputs": [
        {
          "output_type": "execute_result",
          "data": {
            "text/plain": [
              "(['T', 'e', 'n', 's', 'o', 'r', 'f', 'l', 'o'],\n",
              " ['e', 'n', 's', 'o', 'r', 'f', 'l', 'o', 'w'])"
            ]
          },
          "metadata": {},
          "execution_count": 20
        }
      ]
    },
    {
      "cell_type": "code",
      "source": [
        "dataset = sequences.map(split_input_target)"
      ],
      "metadata": {
        "id": "SXliw5Tl_ZFz"
      },
      "execution_count": 21,
      "outputs": []
    },
    {
      "cell_type": "code",
      "source": [
        "for input_example, target_example in dataset.take(1):\n",
        "  print(\"Input: \", text_from_ids(input_example).numpy())\n",
        "  print(\"Target: \", text_from_ids(target_example).numpy())"
      ],
      "metadata": {
        "colab": {
          "base_uri": "https://localhost:8080/"
        },
        "id": "Ssp6ky0o_7LU",
        "outputId": "eff8c7d6-7044-4747-8e09-2692f64ef6c7"
      },
      "execution_count": 22,
      "outputs": [
        {
          "output_type": "stream",
          "name": "stdout",
          "text": [
            "Input:  b'First Citizen:\\nBefore we proceed any further, hear me speak.\\n\\nAll:\\nSpeak, speak.\\n\\nFirst Citizen:\\nYou'\n",
            "Target:  b'irst Citizen:\\nBefore we proceed any further, hear me speak.\\n\\nAll:\\nSpeak, speak.\\n\\nFirst Citizen:\\nYou '\n"
          ]
        }
      ]
    },
    {
      "cell_type": "markdown",
      "source": [
        "## Create training batches\n",
        "You used `tf.data` to split the text into manageable sequences. But before feeding this data into the model, you need to shuffle the data and pack it into batches."
      ],
      "metadata": {
        "id": "V5ta5HGdAadu"
      }
    },
    {
      "cell_type": "code",
      "source": [
        "# batch size\n",
        "BATCH_SIZE = 64\n",
        "\n",
        "# buffer size to shuffle the dataset\n",
        "# (TF data is designed to work with possibly infinite sequences,\n",
        "# so it doesn't attempt to shuffle the entire sequence in memory. Instead,\n",
        "# it maintains a buffer in which it shuffles elements)\n",
        "BUFFER_SIZE = 10000\n",
        "\n",
        "dataset = (\n",
        "    dataset\n",
        "    .shuffle(BUFFER_SIZE)\n",
        "    .batch(BATCH_SIZE, drop_remainder=True)\n",
        "    .prefetch(tf.data.experimental.AUTOTUNE)\n",
        ")\n",
        "\n",
        "dataset"
      ],
      "metadata": {
        "colab": {
          "base_uri": "https://localhost:8080/"
        },
        "id": "fii365c1AM5n",
        "outputId": "1ceb6c8d-9cfd-4e65-b417-ab6aaa051d34"
      },
      "execution_count": 23,
      "outputs": [
        {
          "output_type": "execute_result",
          "data": {
            "text/plain": [
              "<_PrefetchDataset element_spec=(TensorSpec(shape=(64, 100), dtype=tf.int64, name=None), TensorSpec(shape=(64, 100), dtype=tf.int64, name=None))>"
            ]
          },
          "metadata": {},
          "execution_count": 23
        }
      ]
    },
    {
      "cell_type": "markdown",
      "source": [
        "# Build the model\n",
        "This section defines the model as a `keras.Model` subclass (For details see Making new Layers and Models via subclassing).\n",
        "\n",
        "This model has three layers:\n",
        "\n",
        "* `tf.keras.layers.Embedding`: The input layer. A trainable lookup table that will map each character-ID to a vector with embedding_dim dimensions;\n",
        "* `tf.keras.layers.GRU`: A type of RNN with size units=rnn_units (You can also use an LSTM layer here.)\n",
        "* `tf.keras.layers.Dense`: The output layer, with vocab_size outputs. It outputs one logit for each character in the vocabulary. These are the log-likelihood of each character according to the model.\n"
      ],
      "metadata": {
        "id": "pSN65VGQBaIs"
      }
    },
    {
      "cell_type": "code",
      "source": [
        "# Length of the vocabulary in StringLookup Layer\n",
        "vocab_size = len(ids_from_chars.get_vocabulary())\n",
        "\n",
        "# The embedding dimension\n",
        "embedding_dim = 256\n",
        "\n",
        "# Number of RNN units\n",
        "rnn_units = 1024"
      ],
      "metadata": {
        "id": "sfksChAaBW2l"
      },
      "execution_count": 24,
      "outputs": []
    },
    {
      "cell_type": "code",
      "source": [
        "class MyModel(tf.keras.Model):\n",
        "  def __init__(self, vocab_size, embedding_dim, rnn_units):\n",
        "    super().__init__(self)\n",
        "    self.embedding = tf.keras.layers.Embedding(vocab_size, embedding_dim)\n",
        "    self.gru = tf.keras.layers.GRU(rnn_units,\n",
        "                                   return_sequences=True,\n",
        "                                   return_state=True)\n",
        "    self.dense = tf.keras.layers.Dense(vocab_size)\n",
        "\n",
        "  def call(self, inputs, states=None, return_state=False, training=False):\n",
        "    x = inputs\n",
        "    x = self.embedding(x, training=training)\n",
        "    if states is None:\n",
        "      states = self.gru.get_initial_state(x)\n",
        "    x, states = self.gru(x, initial_state=states, training=training)\n",
        "    x = self.dense(x, training=training)\n",
        "\n",
        "    if return_state:\n",
        "      return x, states\n",
        "    else:\n",
        "      return x"
      ],
      "metadata": {
        "id": "VIe9aKCUEcAs"
      },
      "execution_count": 25,
      "outputs": []
    },
    {
      "cell_type": "code",
      "source": [
        "model = MyModel(\n",
        "    vocab_size = vocab_size,\n",
        "    embedding_dim = embedding_dim,\n",
        "    rnn_units = rnn_units\n",
        ")"
      ],
      "metadata": {
        "id": "r3LHuZw9Fqvp"
      },
      "execution_count": 26,
      "outputs": []
    },
    {
      "cell_type": "markdown",
      "source": [
        "# Try the model"
      ],
      "metadata": {
        "id": "gif0-qdYHdXd"
      }
    },
    {
      "cell_type": "code",
      "source": [
        "for input_example_batch, target_example_batch in dataset.take(1):\n",
        "  example_batch_predictions = model(input_example_batch)\n",
        "  print(example_batch_predictions.shape, \"# (batch_size, sequence_length, vocab_size)\")"
      ],
      "metadata": {
        "colab": {
          "base_uri": "https://localhost:8080/"
        },
        "id": "8fad2NXfHgEF",
        "outputId": "496dcc98-a92a-4475-8763-4650b737dfba"
      },
      "execution_count": 27,
      "outputs": [
        {
          "output_type": "stream",
          "name": "stdout",
          "text": [
            "(64, 100, 66) # (batch_size, sequence_length, vocab_size)\n"
          ]
        }
      ]
    },
    {
      "cell_type": "markdown",
      "source": [
        "In the above example the sequence length of the input is 100 but the model can be run on inputs of any length:"
      ],
      "metadata": {
        "id": "z-G1ZO1nIRFZ"
      }
    },
    {
      "cell_type": "code",
      "source": [
        "model.summary()"
      ],
      "metadata": {
        "colab": {
          "base_uri": "https://localhost:8080/"
        },
        "id": "K22jnDk9HzB0",
        "outputId": "d30a7129-4a38-43b0-bc6a-6873d4609be4"
      },
      "execution_count": 28,
      "outputs": [
        {
          "output_type": "stream",
          "name": "stdout",
          "text": [
            "Model: \"my_model\"\n",
            "_________________________________________________________________\n",
            " Layer (type)                Output Shape              Param #   \n",
            "=================================================================\n",
            " embedding (Embedding)       multiple                  16896     \n",
            "                                                                 \n",
            " gru (GRU)                   multiple                  3938304   \n",
            "                                                                 \n",
            " dense (Dense)               multiple                  67650     \n",
            "                                                                 \n",
            "=================================================================\n",
            "Total params: 4022850 (15.35 MB)\n",
            "Trainable params: 4022850 (15.35 MB)\n",
            "Non-trainable params: 0 (0.00 Byte)\n",
            "_________________________________________________________________\n"
          ]
        }
      ]
    },
    {
      "cell_type": "markdown",
      "source": [
        "To get actual predictions from the model you need to sample from the output distribution, to get actual character indices. This distribution is defined by the logits over the character vocabulary."
      ],
      "metadata": {
        "id": "v9uHNUQ9ISXZ"
      }
    },
    {
      "cell_type": "markdown",
      "source": [
        "> Note: It is important to sample from this distribution as taking the argmax of the distribution can easily get the model stuck in a loop."
      ],
      "metadata": {
        "id": "99KuXWEHIUCr"
      }
    },
    {
      "cell_type": "markdown",
      "source": [
        "Try it for the first example in the batch:"
      ],
      "metadata": {
        "id": "yWgZvcI8IXig"
      }
    },
    {
      "cell_type": "code",
      "source": [
        "sampled_indices = tf.random.categorical(example_batch_predictions[0], num_samples=1)\n",
        "sampled_indices = tf.squeeze(sampled_indices, axis=-1).numpy()"
      ],
      "metadata": {
        "id": "FaQUUVbcIX7X"
      },
      "execution_count": 29,
      "outputs": []
    },
    {
      "cell_type": "markdown",
      "source": [
        "This gives us, at each timestep, a prediction of the next character index:"
      ],
      "metadata": {
        "id": "xL13qH_0Iobw"
      }
    },
    {
      "cell_type": "code",
      "source": [
        "sampled_indices"
      ],
      "metadata": {
        "colab": {
          "base_uri": "https://localhost:8080/"
        },
        "id": "tHUg5VKrISMK",
        "outputId": "72959d28-f59a-404b-b47e-2aa8d6ad0045"
      },
      "execution_count": 30,
      "outputs": [
        {
          "output_type": "execute_result",
          "data": {
            "text/plain": [
              "array([42, 29,  7, 22, 34, 60, 63,  6, 61, 37, 25, 39,  0, 65, 43,  2, 52,\n",
              "        7, 45, 53, 62, 29, 15, 29, 24, 47, 44, 16, 64, 45,  0, 43, 10, 32,\n",
              "       61,  9, 41,  0, 49, 21, 59, 15, 45, 64,  7,  3, 45, 42,  3,  0, 24,\n",
              "       62, 60, 46, 60, 22,  3,  7, 27, 64, 21, 10,  5, 12, 37, 28, 16, 43,\n",
              "       41, 41, 37, 40,  3,  7, 24, 45, 25, 34,  4, 64,  9, 47, 53, 50, 33,\n",
              "       26, 54,  6, 52, 50, 14, 57, 45, 41, 11, 55,  2, 55, 31, 23])"
            ]
          },
          "metadata": {},
          "execution_count": 30
        }
      ]
    },
    {
      "cell_type": "markdown",
      "source": [
        "Decode these to see the text predicted by this untrained model:"
      ],
      "metadata": {
        "id": "BFereDRQItww"
      }
    },
    {
      "cell_type": "code",
      "source": [
        "print(\"Input:\\n\", text_from_ids(input_example_batch[0]).numpy())\n",
        "print()\n",
        "print(\"Next Char Predictions:\\n\", text_from_ids(sampled_indices).numpy())"
      ],
      "metadata": {
        "colab": {
          "base_uri": "https://localhost:8080/"
        },
        "id": "8eudKA47IsSj",
        "outputId": "fa5571bd-1bd1-4af6-e061-5236575e7164"
      },
      "execution_count": 31,
      "outputs": [
        {
          "output_type": "stream",
          "name": "stdout",
          "text": [
            "Input:\n",
            " b\"threescore and two years; a silly time\\nTo make prescription for a kingdom's worth.\\n\\nOXFORD:\\nWhy, War\"\n",
            "\n",
            "Next Char Predictions:\n",
            " b\"cP,IUux'vXLZ[UNK]zd m,fnwPBPKheCyf[UNK]d3Sv.b[UNK]jHtBfy,!fc![UNK]KwuguI!,NyH3&;XOCdbbXa!,KfLU$y.hnkTMo'mkArfb:p pRJ\"\n"
          ]
        }
      ]
    },
    {
      "cell_type": "markdown",
      "source": [
        "# Train the model\n",
        "At this point the problem can be treated as a standard classification problem. Given the previous RNN state, and the input this time step, predict the class of the next character."
      ],
      "metadata": {
        "id": "I1FJCCd9JNZY"
      }
    },
    {
      "cell_type": "markdown",
      "source": [
        "## Attach an optimizer, and a loss function\n",
        "The standard `tf.keras.losses.sparse_categorical_crossentropy` loss function works in this case because it is applied across the last dimension of the predictions.\n",
        "\n",
        "Because your model returns logits, you need to set the from_logits flag."
      ],
      "metadata": {
        "id": "jCDRROua0Hde"
      }
    },
    {
      "cell_type": "code",
      "source": [
        "loss =tf.losses.SparseCategoricalCrossentropy(from_logits=True)"
      ],
      "metadata": {
        "id": "EMMvFntCJHF6"
      },
      "execution_count": 32,
      "outputs": []
    },
    {
      "cell_type": "code",
      "source": [
        "example_batch_mean_loss = loss(target_example_batch, example_batch_predictions)\n",
        "print(\"Prediction shape: \", example_batch_predictions.shape, '# (batch_size, sequence_length, vocab_size)')\n",
        "print(\"Mean loss: \", example_batch_mean_loss)"
      ],
      "metadata": {
        "colab": {
          "base_uri": "https://localhost:8080/"
        },
        "id": "6OMWvX960ZEf",
        "outputId": "6b47e75d-5328-459b-f5e4-dd7844cbced5"
      },
      "execution_count": 33,
      "outputs": [
        {
          "output_type": "stream",
          "name": "stdout",
          "text": [
            "Prediction shape:  (64, 100, 66) # (batch_size, sequence_length, vocab_size)\n",
            "Mean loss:  tf.Tensor(4.189204, shape=(), dtype=float32)\n"
          ]
        }
      ]
    },
    {
      "cell_type": "markdown",
      "source": [
        "A newly initialized model shouldn't be too sure of itself, the output logits should all have similar magnitudes. To confirm this you can check that the exponential of the mean loss is approximately equal to the vocabulary size. A much higher loss means the model is sure of its wrong answers, and is badly initialized:"
      ],
      "metadata": {
        "id": "b1lNQ27X1IrD"
      }
    },
    {
      "cell_type": "code",
      "source": [
        "tf.exp(example_batch_mean_loss).numpy()"
      ],
      "metadata": {
        "colab": {
          "base_uri": "https://localhost:8080/"
        },
        "id": "oyKQLWn907Ev",
        "outputId": "58089055-6c43-42c6-b511-1d3215d3b0a0"
      },
      "execution_count": 34,
      "outputs": [
        {
          "output_type": "execute_result",
          "data": {
            "text/plain": [
              "65.970276"
            ]
          },
          "metadata": {},
          "execution_count": 34
        }
      ]
    },
    {
      "cell_type": "markdown",
      "source": [
        "Configure the training procedure using the `tf.keras.Model.compile` method. Use `tf.keras.optimizers.Adam` with default arguments and the loss function."
      ],
      "metadata": {
        "id": "ziCigBbW1TP3"
      }
    },
    {
      "cell_type": "code",
      "source": [
        "model.compile(optimizer='adam', loss=loss)"
      ],
      "metadata": {
        "id": "1zJ3J7A81Qm6"
      },
      "execution_count": 35,
      "outputs": []
    },
    {
      "cell_type": "markdown",
      "source": [
        "## Configure checkpoints\n",
        "Use a `tf.keras.callbacks.ModelCheckpoint` to ensure that checkpoints are saved during training:"
      ],
      "metadata": {
        "id": "BH8krYs91ckP"
      }
    },
    {
      "cell_type": "code",
      "source": [
        "# Directory where the checkpoints will be saved\n",
        "checkpoint_dir = './training_checkpoints'\n",
        "# Name of the checkpoint files\n",
        "checkpoint_prefix = os.path.join(checkpoint_dir, 'ckpt_{epoch}')\n",
        "\n",
        "checkpoint_callback = tf.keras.callbacks.ModelCheckpoint(\n",
        "    filepath=checkpoint_prefix,\n",
        "    save_weights_only=True\n",
        ")"
      ],
      "metadata": {
        "id": "qc1hbC3I1bNR"
      },
      "execution_count": 36,
      "outputs": []
    },
    {
      "cell_type": "markdown",
      "source": [
        "## Execute the training\n",
        "To keep training time reasonable, use 10 epochs to train the model. In Colab, set the runtime to GPU for faster training."
      ],
      "metadata": {
        "id": "tSxgv6Yu2FmO"
      }
    },
    {
      "cell_type": "code",
      "source": [
        "EPOCHS = 20"
      ],
      "metadata": {
        "id": "p2mEn1A12E4O"
      },
      "execution_count": 37,
      "outputs": []
    },
    {
      "cell_type": "code",
      "source": [
        "history = model.fit(dataset, epochs=EPOCHS, callbacks=[checkpoint_callback])"
      ],
      "metadata": {
        "colab": {
          "base_uri": "https://localhost:8080/"
        },
        "id": "5ER83LaE2MZa",
        "outputId": "30df23d5-7c30-493b-ce2c-cf6ca16527ff"
      },
      "execution_count": 38,
      "outputs": [
        {
          "output_type": "stream",
          "name": "stdout",
          "text": [
            "Epoch 1/20\n",
            "172/172 [==============================] - 19s 59ms/step - loss: 2.7653\n",
            "Epoch 2/20\n",
            "172/172 [==============================] - 10s 52ms/step - loss: 2.0197\n",
            "Epoch 3/20\n",
            "172/172 [==============================] - 10s 52ms/step - loss: 1.7365\n",
            "Epoch 4/20\n",
            "172/172 [==============================] - 11s 52ms/step - loss: 1.5701\n",
            "Epoch 5/20\n",
            "172/172 [==============================] - 11s 52ms/step - loss: 1.4674\n",
            "Epoch 6/20\n",
            "172/172 [==============================] - 12s 53ms/step - loss: 1.3974\n",
            "Epoch 7/20\n",
            "172/172 [==============================] - 12s 54ms/step - loss: 1.3436\n",
            "Epoch 8/20\n",
            "172/172 [==============================] - 12s 55ms/step - loss: 1.2976\n",
            "Epoch 9/20\n",
            "172/172 [==============================] - 11s 54ms/step - loss: 1.2567\n",
            "Epoch 10/20\n",
            "172/172 [==============================] - 11s 55ms/step - loss: 1.2161\n",
            "Epoch 11/20\n",
            "172/172 [==============================] - 11s 56ms/step - loss: 1.1775\n",
            "Epoch 12/20\n",
            "172/172 [==============================] - 11s 57ms/step - loss: 1.1377\n",
            "Epoch 13/20\n",
            "172/172 [==============================] - 11s 57ms/step - loss: 1.0965\n",
            "Epoch 14/20\n",
            "172/172 [==============================] - 12s 59ms/step - loss: 1.0511\n",
            "Epoch 15/20\n",
            "172/172 [==============================] - 12s 59ms/step - loss: 1.0038\n",
            "Epoch 16/20\n",
            "172/172 [==============================] - 12s 59ms/step - loss: 0.9543\n",
            "Epoch 17/20\n",
            "172/172 [==============================] - 12s 58ms/step - loss: 0.9023\n",
            "Epoch 18/20\n",
            "172/172 [==============================] - 12s 58ms/step - loss: 0.8495\n",
            "Epoch 19/20\n",
            "172/172 [==============================] - 12s 57ms/step - loss: 0.7989\n",
            "Epoch 20/20\n",
            "172/172 [==============================] - 12s 60ms/step - loss: 0.7491\n"
          ]
        }
      ]
    },
    {
      "cell_type": "markdown",
      "source": [
        "# Generate Text"
      ],
      "metadata": {
        "id": "LfrFCXep3fRo"
      }
    },
    {
      "cell_type": "code",
      "source": [
        "class OneStep(tf.keras.Model):\n",
        "  def __init__(self, model, chars_from_ids, ids_from_chars, temperature=1.0):\n",
        "    super().__init__()\n",
        "    self.temperature = temperature\n",
        "    self.model = model\n",
        "    self.chars_from_ids = chars_from_ids\n",
        "    self.ids_from_chars = ids_from_chars\n",
        "\n",
        "    # Create a mask to prevent \"[UNK]\" from being generated\n",
        "    skip_ids = self.ids_from_chars(['[UNK]'])[:, None]\n",
        "    sparse_mask = tf.SparseTensor(\n",
        "        # Put a -inf at each bad index\n",
        "        values=[-float('inf')]*len(skip_ids),\n",
        "        indices=skip_ids,\n",
        "        # Match the shape to the vocabulary\n",
        "        dense_shape=[len(ids_from_chars.get_vocabulary())]\n",
        "    )\n",
        "    self.prediction_mask = tf.sparse.to_dense(sparse_mask)\n",
        "\n",
        "  @tf.function\n",
        "  def generate_one_step(self, inputs, states=None):\n",
        "    # Convert strings to token IDs\n",
        "    input_chars = tf.strings.unicode_split(inputs, 'UTF-8')\n",
        "    input_ids = self.ids_from_chars(input_chars).to_tensor()\n",
        "\n",
        "    # Run the model\n",
        "    # predicted_logits.shape is [batch, char, next_char_logits]\n",
        "    predicted_logits, states = self.model(inputs=input_ids, states=states, return_state=True)\n",
        "    # Only use the last prediction\n",
        "    predicted_logits = predicted_logits[:, -1, :]\n",
        "    predicted_logits = predicted_logits/self.temperature\n",
        "    # Apply the prediction mask: prevent  \"[UNK]\" from being generated\n",
        "    predicted_logits = predicted_logits + self.prediction_mask\n",
        "\n",
        "    # Sample the output logits to generate token IDs\n",
        "    predicted_ids = tf.random.categorical(predicted_logits, num_samples=1)\n",
        "    predicted_ids = tf.squeeze(predicted_ids, axis=-1)\n",
        "\n",
        "    # Convert from token ids to characters\n",
        "    predicted_chars = self.chars_from_ids(predicted_ids)\n",
        "\n",
        "    # Return the characters and model state\n",
        "    return predicted_chars, states"
      ],
      "metadata": {
        "id": "aPoL6WAX2R8S"
      },
      "execution_count": 39,
      "outputs": []
    },
    {
      "cell_type": "code",
      "source": [
        "one_step_model = OneStep(model, chars_from_ids, ids_from_chars)"
      ],
      "metadata": {
        "id": "4_7JF7o16R-J"
      },
      "execution_count": 40,
      "outputs": []
    },
    {
      "cell_type": "markdown",
      "source": [
        "Run it in a loop to generate some text. Looking at the generated text, you'll see the model knows when to capitalize, make paragraphs and imitates a Shakespeare-like writing vocabulary. With the small number of training epochs, it has not yet learned to form coherent sentences."
      ],
      "metadata": {
        "id": "SK3J2y3p6e5F"
      }
    },
    {
      "cell_type": "code",
      "source": [
        "start = time.time()\n",
        "states = None\n",
        "next_char = tf.constant(['ROMEO:'])\n",
        "result = [next_char]\n",
        "\n",
        "for n in range(1000):\n",
        "  next_char, states = one_step_model.generate_one_step(next_char, states=states)\n",
        "  result.append(next_char)\n",
        "\n",
        "result = tf.strings.join(result)\n",
        "end = time.time()\n",
        "print(result[0].numpy().decode('utf-8'), '\\n\\n' + '_'*80)\n",
        "print('\\nRun time:', end - start)"
      ],
      "metadata": {
        "colab": {
          "base_uri": "https://localhost:8080/"
        },
        "id": "8kD9CoYo6gCO",
        "outputId": "4a09bbfa-81db-4265-8a72-3c89c3a96baa"
      },
      "execution_count": 41,
      "outputs": [
        {
          "output_type": "stream",
          "name": "stdout",
          "text": [
            "ROMEO:\n",
            "Then who is now what then?\n",
            "\n",
            "Girst Senator:\n",
            "No more, my vows be flattererer:\n",
            "Gards, by a touch of it is taken;\n",
            "Either not deserved no impeach Henry'way.\n",
            "\n",
            "HORTENSIO:\n",
            "Sold my truly, go, but but I was crown'd!\n",
            "What fair shed Tybalt's champion?\n",
            "\n",
            "Nurse:\n",
            "Ano, and take him before.\n",
            "\n",
            "PERDITA:\n",
            "I am not now;\n",
            "She is the Lady Bona. Spoke offence, I cannot,\n",
            "Go to your resolution. Canur lives unto you!\n",
            "He that is full of woe.\n",
            "\n",
            "NORTHUMBERLAND:\n",
            "The fruits of the public plays,\n",
            "They may be so far bory law and to your husband.\n",
            "\n",
            "BAPTISTA:\n",
            "Then will the mals of this slee--herved thus.\n",
            "\n",
            "VOLUMNIA:\n",
            "Thou art noing rather to shink,\n",
            "And first we did but for his partyment;\n",
            "For that I please my liege, you mock my bads,\n",
            "And dispossess what this shotecious stars\n",
            "Which should have been a covality of his apprehension.\n",
            "Good Coriolanus from miskage; which raised the harm\n",
            "Where youth in some sacred great in him, be\n",
            "'gainst me, and not to restrece a bloodyest.\n",
            "\n",
            "LEONTES:\n",
            "Hail, not the minister to this,\n",
            "That when the odds be \n",
            "\n",
            "________________________________________________________________________________\n",
            "\n",
            "Run time: 3.2756905555725098\n"
          ]
        }
      ]
    },
    {
      "cell_type": "markdown",
      "source": [
        "The easiest thing you can do to improve the results is to train it for longer (try `EPOCHS = 30`).\n",
        "\n",
        "You can also experiment with a different start string, try adding another RNN layer to improve the model's accuracy, or adjust the temperature parameter to generate more or less random predictions.\n",
        "\n",
        "If you want the model to generate text faster the easiest thing you can do is batch the text generation. In the example below the model generates 5 outputs in about the same time it took to generate 1 above."
      ],
      "metadata": {
        "id": "dwopCWcd8KFG"
      }
    },
    {
      "cell_type": "code",
      "source": [
        "start = time.time()\n",
        "states = None\n",
        "next_char = tf.constant(['ROMEO:', 'ROMEO:', 'ROMEO:', 'ROMEO:', 'ROMEO:'])\n",
        "result = [next_char]\n",
        "\n",
        "for n in range(1000):\n",
        "  next_char, states = one_step_model.generate_one_step(next_char, states=states)\n",
        "  result.append(next_char)\n",
        "\n",
        "result = tf.strings.join(result)\n",
        "end = time.time()\n",
        "print(result, '\\n\\n' + '_'*80)\n",
        "print('\\nRun time:', end - start)"
      ],
      "metadata": {
        "colab": {
          "base_uri": "https://localhost:8080/"
        },
        "id": "YpXKKBIF7KaW",
        "outputId": "0a09ea0a-2cf2-4a53-a82b-af3b2a6bab8c"
      },
      "execution_count": 42,
      "outputs": [
        {
          "output_type": "stream",
          "name": "stdout",
          "text": [
            "tf.Tensor(\n",
            "[b\"ROMEO:\\nMaster, you must know it be done?\\nShe will disperse him, not by our news of a great day.\\nFirst, for a herd for him thou damest;\\nAnd what I will, And be, her brother, Irible to-day;\\nhis head it is; ifand you of a Julish's Towardly;\\nBut, tell my head, when I have said what I calls;\\nMake our reasons are able to a very slave;\\nOmes abode thy saping to my waits, less spiriting weeds!\\nwhate'er these you dead?\\n\\nVINCENTIO:\\nShe, who's thank you? Come, gentle brother, live, and I thank return.\\nIf you have said, Signior Gremio.\\nWelcome! one gracious drums!\\n\\nROMEO:\\nShould, no fortune till some man that loves thee,\\nYou shall not from the king's blood,\\nThe babtiff'd mother with his ermove, and so break\\nBut thou are subjects for a bulle;\\nAnd, bid them cry to follows this: that know\\nMore than chaste; the axpoises are three quarters' hands\\nAnd spirit his penitent than any harm.\\n\\nHENRY BOLIVEBESTIO:\\nWhat, ho! disture? none early maid!\\nO cause! here. What, ha! and ho!\\n\\nROMEO:\\nBut can have off his hand to\"\n",
            " b\"ROMEO:\\nGood morrow, or I, o'erpoint,\\nYour suith are old enemy, all dangerous.\\n\\nFirst Senator:\\nNow, by my thore joyful suiton bring against implaim!\\nCould true-peril in this purpose in my mind.\\nAh, who have brought his tongue! you are thy wretch,\\nWhose fat of horse is up, he should be drawn\\nThe gods ass the fire do yet I forget\\nTo have the pedlar's nose as I forged,\\nAnd dart not have them at the walls,\\nOn fires to the under grood to come again,\\nAnd in my sul, I have rid my warrior;\\nI am going to revenge Nor love I mean,\\nLest I have struck the mangle other man\\nAnd, by it appeare was throng, bold to his man,\\nFall fill's ears and the abuty wounds\\nOf the winged gilight the morn of the duke\\nA blumbering pay to hear him care not.\\n\\nPRINCE:\\nWhere did you strike here? Sir, I came as he will harm it.\\nThey stay and who pressing, stay in truth,\\nNo word to have her dinner-dallen'd brawls,\\nBut basely one and quit at vial.\\nI never to disporce the less,\\nThy help to this night from Capulet, and myself,\\nMaster\"\n",
            " b\"ROMEO:\\nThe ghost is not without conceit of heaven!\\nNow had ye French to His party, put us in Escalus\\nMyself in partical hang of doors.\\n\\nKING RICHARD II:\\nI thank your wars of fiely fairly but what I was upon\\nThe daughter of a king. There's nothing inditted to him\\nNothing home, but Yorking, and France.\\n\\nPOLIXENES:\\nThe gods now, on England's king in great designs;\\nThere was my father, Die, am I turn?\\nMany for moody too her, is gentlemen?\\nLet not his enemies and the very window\\nAsked thy assistance, it is requier'd on an agree,\\nIs partly scornable than she art out:\\nWould there was doth a sorry! which is grief o' the\\nthird-sight for a delight jewer.\\n\\nDERS O:\\nFor well thou, man, slay the sea,--a worthy lady, sir,\\nThat nose whom, madam, let's away. When they did, the\\nsweet sir,' Paris: be it so;\\nProud draim thy teals deliaments,\\nThou liest in usurers.\\n\\nFirst Lord:\\nSo I am, in friends: I would not,\\nAnd yet stop the morning slun.\\nSay tod, what noise is he scarce a civil, after?\\n\\nGLOUCESTER:\\nWhat shou\"\n",
            " b\"ROMEO:\\nThen was sometime him where you are discover\\nThan you to curb. The skilings, every gall,\\nWith old sons on thy dash present blood\\nWhich should my chamber, and to lay\\nare they behalf; and Now, deserves a child,\\nPut on the business in with him and daughters, 'heaved,\\ninvingual, most glad for half a Villain.\\n\\nROMEO:\\nWhat wilt thou scarce change the garless does I'ld obey?\\nOr from my Romeo which blushed to your hands,\\nProceed and cousin Authoriously trust,\\nAnd the disgrace and well the world--\\nTo call for surple end of the Luke and like Hergil\\nWe are known. Come; when laid told me remember it?\\n\\nJULIET:\\nGive me two and good night through the winter.\\n\\nPERDITA:\\nThat's my word.\\nThe loss of its peace love's awe decreed,\\nAnd in to piece a great earthly sworn and all the\\nnew-redort: daughter, sir, if you would have seen\\nOur tardy apive many of the abundant to\\ngetch him.\\n\\nDUKE VINCENTIO:\\nSaffly your heaviest fellow's name?\\n\\nLUCIO:\\nI praise him cheer hath married me about them:\\nBut there are old me\"\n",
            " b\"ROMEO:\\nShe where I am, in government.\\n\\nNORTHUMBERLAND:\\nNay, we are: but I can receive some spleen-brow,\\nThe lamb will help you to your worship afflict.\\n\\nQUEEN ELIZABETH:\\nI carted with this royal did!\\n\\nQUEEN ELIZABETH:\\nA brief of Aularap, to do so,\\nIt was the grace and daughter. Go the Christman\\nAnd the unboan distance and thy quiet groans!\\nO Bianca' bad and want no lass,\\nThat I must be, what of his tybalt-chancely hands.\\nKnow this now hath being avoided image,\\nAnd this that banish in himself write,\\nThou calls as when is mine observe: and his\\nAufflies and twelve: I am past more tell\\nA man did to his prevention.\\nA plague upon a crown, but grief is sleep,\\nUnshanging, bound a very flow, or\\nne'er redewite. I'll tell you, sir, a royal king.\\n\\nPRINCE:\\nWhat news, by the youth o' the time?\\n\\nBAPTISTA:\\nWell, go with me.\\n\\nHASTINGS:\\nOf Marcius,\\nAndee conspires and be still, and I\\nfie, follow and deserved it, and that hangmen drown\\nyou for his oath. What offence hath a cause\\na torm, and gave the palace of \"], shape=(5,), dtype=string) \n",
            "\n",
            "________________________________________________________________________________\n",
            "\n",
            "Run time: 3.03983998298645\n"
          ]
        }
      ]
    },
    {
      "cell_type": "markdown",
      "source": [
        "# Export the generator\n",
        "This single-step model can easily be saved and restored, allowing you to use it anywhere a `tf.saved_model` is accepted."
      ],
      "metadata": {
        "id": "HQ_GYw3Y8dsg"
      }
    },
    {
      "cell_type": "code",
      "source": [
        "tf.saved_model.save(one_step_model, 'one_step')\n",
        "one_step_reloaded = tf.saved_model.load('one_step')"
      ],
      "metadata": {
        "colab": {
          "base_uri": "https://localhost:8080/"
        },
        "id": "0Nr_rv328WEZ",
        "outputId": "33635f57-528e-4960-fea4-1e9a30b4286f"
      },
      "execution_count": 43,
      "outputs": [
        {
          "output_type": "stream",
          "name": "stderr",
          "text": [
            "WARNING:tensorflow:Skipping full serialization of Keras layer <__main__.OneStep object at 0x7a06c0333dc0>, because it is not built.\n",
            "WARNING:tensorflow:Model's `__init__()` arguments contain non-serializable objects. Please implement a `get_config()` method in the subclassed Model for proper saving and loading. Defaulting to empty config.\n",
            "WARNING:tensorflow:Model's `__init__()` arguments contain non-serializable objects. Please implement a `get_config()` method in the subclassed Model for proper saving and loading. Defaulting to empty config.\n"
          ]
        }
      ]
    },
    {
      "cell_type": "code",
      "source": [
        "states = None\n",
        "next_char = tf.constant(['ROMEO:'])\n",
        "result = [next_char]\n",
        "\n",
        "for n in range(100):\n",
        "  next_char, states = one_step_reloaded.generate_one_step(next_char, states=states)\n",
        "  result.append(next_char)\n",
        "\n",
        "print(tf.strings.join(result)[0].numpy().decode(\"utf-8\"))"
      ],
      "metadata": {
        "colab": {
          "base_uri": "https://localhost:8080/"
        },
        "id": "gej91BmZ8vTj",
        "outputId": "4d833caf-ac69-4a4a-eb55-85d4002b968b"
      },
      "execution_count": 44,
      "outputs": [
        {
          "output_type": "stream",
          "name": "stdout",
          "text": [
            "ROMEO:\n",
            "Go you in a wonder, if you think, we have begun\n",
            "The bawdy royal information.\n",
            "\n",
            "Second Shapares:\n",
            "You \n"
          ]
        }
      ]
    },
    {
      "cell_type": "markdown",
      "source": [
        "# Advanced: Customized Training"
      ],
      "metadata": {
        "id": "koI6sNd582ho"
      }
    },
    {
      "cell_type": "code",
      "source": [
        "class CustomTraining(MyModel):\n",
        "  @tf.function\n",
        "  def train_step(self, inputs):\n",
        "    inputs, labels = inputs\n",
        "    with tf.GradientTape() as tape:\n",
        "      predictions = self(inputs, training=True)\n",
        "      loss = self.loss(labels, predictions)\n",
        "    grads = tape.gradient(loss, model.trainable_variables)\n",
        "    self.optimizer.apply_gradients(zip(grads, model.trainable_variables))\n",
        "\n",
        "    return {'loss': loss}"
      ],
      "metadata": {
        "id": "UAGvoC2V80HM"
      },
      "execution_count": 45,
      "outputs": []
    },
    {
      "cell_type": "code",
      "source": [
        "model = CustomTraining(\n",
        "    vocab_size=len(ids_from_chars.get_vocabulary()),\n",
        "    embedding_dim=embedding_dim,\n",
        "    rnn_units=rnn_units\n",
        ")"
      ],
      "metadata": {
        "id": "6teoUr_oBJKS"
      },
      "execution_count": 46,
      "outputs": []
    },
    {
      "cell_type": "code",
      "source": [
        "model.compile(\n",
        "    optimizer=tf.keras.optimizers.Adam(),\n",
        "    loss=tf.keras.losses.SparseCategoricalCrossentropy(from_logits=True)\n",
        ")"
      ],
      "metadata": {
        "id": "MfGsEQOgBT3G"
      },
      "execution_count": 47,
      "outputs": []
    },
    {
      "cell_type": "code",
      "source": [
        "model.fit(dataset, epochs=1)"
      ],
      "metadata": {
        "colab": {
          "base_uri": "https://localhost:8080/"
        },
        "id": "nVtjbp0jBdAQ",
        "outputId": "b9aa5a06-167c-42b9-c9a6-32a238f65d2b"
      },
      "execution_count": 48,
      "outputs": [
        {
          "output_type": "stream",
          "name": "stdout",
          "text": [
            "172/172 [==============================] - 14s 58ms/step - loss: 2.7275\n"
          ]
        },
        {
          "output_type": "execute_result",
          "data": {
            "text/plain": [
              "<keras.src.callbacks.History at 0x7a06ae658760>"
            ]
          },
          "metadata": {},
          "execution_count": 48
        }
      ]
    },
    {
      "cell_type": "code",
      "source": [
        "EPOCHS = 10\n",
        "\n",
        "mean = tf.metrics.Mean()\n",
        "\n",
        "for epoch in range(EPOCHS):\n",
        "  start = time.time()\n",
        "\n",
        "  mean.reset_states()\n",
        "  for(batch_n, (inp, target)) in enumerate(dataset):\n",
        "    logs = model.train_step([inp, target])\n",
        "    mean.update_state(logs['loss'])\n",
        "\n",
        "    if batch_n % 50 == 0:\n",
        "      template = f\"Epoch {epoch+1} Batch {batch_n} Loss {logs['loss']:.4f}\"\n",
        "      print(template)\n",
        "\n",
        "  # saving (checkpoint) the model every 5 epochs\n",
        "  if (epoch+1) % 5 == 0:\n",
        "    model.save_weights(checkpoint_prefix.format(epoch=epoch))\n",
        "\n",
        "    print()\n",
        "    print(f'Epoch {epoch+1} Loss: {mean.result().numpy():.4f}')\n",
        "    print(f'Time taken for 1 epoch {time.time() - start:.2f} sec')\n",
        "    print('_' * 80)\n",
        "\n",
        "model.save_weights(checkpoint_prefix.format(epoch=epoch))"
      ],
      "metadata": {
        "colab": {
          "base_uri": "https://localhost:8080/"
        },
        "id": "ZwbC-WcYB6mC",
        "outputId": "d0b17827-df9c-4919-a217-c64ad80d61e6"
      },
      "execution_count": 49,
      "outputs": [
        {
          "output_type": "stream",
          "name": "stdout",
          "text": [
            "Epoch 1 Batch 0 Loss 2.1672\n",
            "Epoch 1 Batch 50 Loss 2.0977\n",
            "Epoch 1 Batch 100 Loss 1.9363\n",
            "Epoch 1 Batch 150 Loss 1.8552\n",
            "Epoch 2 Batch 0 Loss 1.8078\n",
            "Epoch 2 Batch 50 Loss 1.7368\n",
            "Epoch 2 Batch 100 Loss 1.6749\n",
            "Epoch 2 Batch 150 Loss 1.6820\n",
            "Epoch 3 Batch 0 Loss 1.5813\n",
            "Epoch 3 Batch 50 Loss 1.5830\n",
            "Epoch 3 Batch 100 Loss 1.5211\n",
            "Epoch 3 Batch 150 Loss 1.5557\n",
            "Epoch 4 Batch 0 Loss 1.5038\n",
            "Epoch 4 Batch 50 Loss 1.4141\n",
            "Epoch 4 Batch 100 Loss 1.4726\n",
            "Epoch 4 Batch 150 Loss 1.4331\n",
            "Epoch 5 Batch 0 Loss 1.3948\n",
            "Epoch 5 Batch 50 Loss 1.3616\n",
            "Epoch 5 Batch 100 Loss 1.4041\n",
            "Epoch 5 Batch 150 Loss 1.4196\n",
            "\n",
            "Epoch 5 Loss: 1.3832\n",
            "Time taken for 1 epoch 11.00 sec\n",
            "________________________________________________________________________________\n",
            "Epoch 6 Batch 0 Loss 1.3204\n",
            "Epoch 6 Batch 50 Loss 1.3431\n",
            "Epoch 6 Batch 100 Loss 1.3362\n",
            "Epoch 6 Batch 150 Loss 1.3449\n",
            "Epoch 7 Batch 0 Loss 1.2627\n",
            "Epoch 7 Batch 50 Loss 1.2774\n",
            "Epoch 7 Batch 100 Loss 1.2723\n",
            "Epoch 7 Batch 150 Loss 1.3096\n",
            "Epoch 8 Batch 0 Loss 1.2226\n",
            "Epoch 8 Batch 50 Loss 1.2553\n",
            "Epoch 8 Batch 100 Loss 1.2566\n",
            "Epoch 8 Batch 150 Loss 1.2340\n",
            "Epoch 9 Batch 0 Loss 1.1705\n",
            "Epoch 9 Batch 50 Loss 1.2024\n",
            "Epoch 9 Batch 100 Loss 1.2394\n",
            "Epoch 9 Batch 150 Loss 1.2055\n",
            "Epoch 10 Batch 0 Loss 1.1304\n",
            "Epoch 10 Batch 50 Loss 1.1502\n",
            "Epoch 10 Batch 100 Loss 1.1968\n",
            "Epoch 10 Batch 150 Loss 1.1879\n",
            "\n",
            "Epoch 10 Loss: 1.1646\n",
            "Time taken for 1 epoch 11.16 sec\n",
            "________________________________________________________________________________\n"
          ]
        }
      ]
    }
  ]
}