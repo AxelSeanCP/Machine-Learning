{
  "nbformat": 4,
  "nbformat_minor": 0,
  "metadata": {
    "colab": {
      "provenance": []
    },
    "kernelspec": {
      "name": "python3",
      "display_name": "Python 3"
    },
    "language_info": {
      "name": "python"
    }
  },
  "cells": [
    {
      "cell_type": "markdown",
      "source": [
        "https://github.com/dicodingacademy/a185-pengembangan-ml/tree/main/sample_project_tfjs/starter"
      ],
      "metadata": {
        "id": "1Ab3dfRtfuJc"
      }
    },
    {
      "cell_type": "code",
      "execution_count": 19,
      "metadata": {
        "colab": {
          "base_uri": "https://localhost:8080/"
        },
        "id": "EwsBQvIKd4Pa",
        "outputId": "14627b43-5ccf-4488-d34a-de9b147bdfa5"
      },
      "outputs": [
        {
          "output_type": "stream",
          "name": "stderr",
          "text": [
            "[nltk_data] Downloading package stopwords to /root/nltk_data...\n",
            "[nltk_data]   Package stopwords is already up-to-date!\n"
          ]
        },
        {
          "output_type": "execute_result",
          "data": {
            "text/plain": [
              "True"
            ]
          },
          "metadata": {},
          "execution_count": 19
        }
      ],
      "source": [
        "import pandas as pd\n",
        "import tensorflow as tf\n",
        "from sklearn.model_selection import train_test_split\n",
        "from tensorflow.keras.preprocessing.text import Tokenizer\n",
        "from tensorflow.keras.preprocessing.sequence import pad_sequences\n",
        "from tensorflow.keras.layers import Embedding, GlobalAveragePooling1D, Dense, LSTM, Dropout\n",
        "import matplotlib.pyplot as plt\n",
        "import numpy as np\n",
        "import nltk\n",
        "from nltk.corpus import stopwords\n",
        "import json\n",
        "\n",
        "nltk.download('stopwords')"
      ]
    },
    {
      "cell_type": "code",
      "source": [
        "df = pd.read_csv('yelp_labelled.txt', names=['sentence', 'label'], sep='\\t')"
      ],
      "metadata": {
        "id": "KCy_5ReVfiEb"
      },
      "execution_count": 5,
      "outputs": []
    },
    {
      "cell_type": "code",
      "source": [
        "# change all text into lowercase\n",
        "df['sentence'] = df['sentence'].str.lower()\n",
        "\n",
        "# remove stopwords\n",
        "stop_word = set(stopwords.words('english'))\n",
        "\n",
        "df['sentence'] = df['sentence'].apply(lambda x: ' '.join([word for word in x.split() if word not in (stop_word)]))"
      ],
      "metadata": {
        "id": "B9pwN-OzgCbu"
      },
      "execution_count": 7,
      "outputs": []
    },
    {
      "cell_type": "code",
      "source": [
        "# split dataset\n",
        "sentence = df['sentence'].values\n",
        "label = df['label'].values\n",
        "\n",
        "sentence_train, sentence_test, label_train, label_test = train_test_split(sentence, label, test_size=0.2)\n",
        "print(sentence_train[0])\n",
        "print(sentence_test[0])"
      ],
      "metadata": {
        "colab": {
          "base_uri": "https://localhost:8080/"
        },
        "id": "rlpxhrSKhnKz",
        "outputId": "6bcd71be-37b9-4edb-cb81-4beabd4cd763"
      },
      "execution_count": 8,
      "outputs": [
        {
          "output_type": "stream",
          "name": "stdout",
          "text": [
            "-my order correct.\n",
            "i'm sure long stood long enough begin feel awkwardly place.\n"
          ]
        }
      ]
    },
    {
      "cell_type": "code",
      "source": [
        "# tokenization\n",
        "filt = '!\"#$%&()*+.,-/:;=?@[\\]^_`{|}~ ' # regex to remove symbols\n",
        "\n",
        "tokenizer = Tokenizer(num_words=2000, oov_token='<OOV>', filters=filt)\n",
        "\n",
        "tokenizer.fit_on_texts(sentence_train)"
      ],
      "metadata": {
        "id": "N9G4p1RSiWzS"
      },
      "execution_count": 9,
      "outputs": []
    },
    {
      "cell_type": "code",
      "source": [
        "# save word_index to a json file\n",
        "word_index = tokenizer.word_index\n",
        "\n",
        "with open('word_index.json', 'w') as fp:\n",
        "  json.dump(word_index, fp)"
      ],
      "metadata": {
        "id": "EZDbMOM5iuLq"
      },
      "execution_count": 10,
      "outputs": []
    },
    {
      "cell_type": "code",
      "source": [
        "# create sequences and padding\n",
        "train_sekuens = tokenizer.texts_to_sequences(sentence_train)\n",
        "test_sekuens = tokenizer.texts_to_sequences(sentence_test)\n",
        "\n",
        "train_padded = pad_sequences(train_sekuens, maxlen=20, padding='post', truncating='post')\n",
        "test_padded = pad_sequences(test_sekuens, maxlen=20, padding='post', truncating='post')"
      ],
      "metadata": {
        "id": "uOQrqpu5jrk4"
      },
      "execution_count": 11,
      "outputs": []
    },
    {
      "cell_type": "code",
      "source": [
        "# create model\n",
        "model = tf.keras.Sequential([\n",
        "    Embedding(input_dim=2000, output_dim=20, input_length=20),\n",
        "    GlobalAveragePooling1D(),\n",
        "    Dense(64, activation=\"relu\"),\n",
        "    Dense(32, activation=\"relu\"),\n",
        "    Dense(1, activation=\"sigmoid\")\n",
        "])"
      ],
      "metadata": {
        "id": "Rz2_DvHtkLZi"
      },
      "execution_count": 12,
      "outputs": []
    },
    {
      "cell_type": "code",
      "source": [
        "# compile model\n",
        "model.compile(\n",
        "    optimizer='adam',\n",
        "    loss='binary_crossentropy',\n",
        "    metrics=['accuracy']\n",
        ")"
      ],
      "metadata": {
        "id": "6PfB4KMvlFnu"
      },
      "execution_count": 13,
      "outputs": []
    },
    {
      "cell_type": "code",
      "source": [
        "# train model\n",
        "num_epochs=30\n",
        "modelku = model.fit(\n",
        "    train_padded,\n",
        "    label_train,\n",
        "    epochs = num_epochs,\n",
        "    validation_data=(test_padded, label_test),\n",
        "    verbose=2\n",
        ")"
      ],
      "metadata": {
        "colab": {
          "base_uri": "https://localhost:8080/"
        },
        "id": "ZJA-YrFBlP6I",
        "outputId": "11472292-4da2-46bb-c939-0f84620bd0aa"
      },
      "execution_count": 14,
      "outputs": [
        {
          "output_type": "stream",
          "name": "stdout",
          "text": [
            "Epoch 1/30\n",
            "25/25 - 2s - loss: 0.6932 - accuracy: 0.4863 - val_loss: 0.6929 - val_accuracy: 0.4650 - 2s/epoch - 79ms/step\n",
            "Epoch 2/30\n",
            "25/25 - 0s - loss: 0.6900 - accuracy: 0.6762 - val_loss: 0.6898 - val_accuracy: 0.6250 - 115ms/epoch - 5ms/step\n",
            "Epoch 3/30\n",
            "25/25 - 0s - loss: 0.6796 - accuracy: 0.7638 - val_loss: 0.6812 - val_accuracy: 0.5900 - 98ms/epoch - 4ms/step\n",
            "Epoch 4/30\n",
            "25/25 - 0s - loss: 0.6400 - accuracy: 0.8900 - val_loss: 0.6449 - val_accuracy: 0.7400 - 97ms/epoch - 4ms/step\n",
            "Epoch 5/30\n",
            "25/25 - 0s - loss: 0.5467 - accuracy: 0.8813 - val_loss: 0.5824 - val_accuracy: 0.7200 - 112ms/epoch - 4ms/step\n",
            "Epoch 6/30\n",
            "25/25 - 0s - loss: 0.3845 - accuracy: 0.9362 - val_loss: 0.5195 - val_accuracy: 0.7400 - 95ms/epoch - 4ms/step\n",
            "Epoch 7/30\n",
            "25/25 - 0s - loss: 0.2464 - accuracy: 0.9513 - val_loss: 0.5101 - val_accuracy: 0.7150 - 89ms/epoch - 4ms/step\n",
            "Epoch 8/30\n",
            "25/25 - 0s - loss: 0.1561 - accuracy: 0.9688 - val_loss: 0.5359 - val_accuracy: 0.7150 - 88ms/epoch - 4ms/step\n",
            "Epoch 9/30\n",
            "25/25 - 0s - loss: 0.1058 - accuracy: 0.9787 - val_loss: 0.5651 - val_accuracy: 0.7150 - 93ms/epoch - 4ms/step\n",
            "Epoch 10/30\n",
            "25/25 - 0s - loss: 0.0764 - accuracy: 0.9862 - val_loss: 0.6123 - val_accuracy: 0.7300 - 95ms/epoch - 4ms/step\n",
            "Epoch 11/30\n",
            "25/25 - 0s - loss: 0.0581 - accuracy: 0.9925 - val_loss: 0.6545 - val_accuracy: 0.7250 - 100ms/epoch - 4ms/step\n",
            "Epoch 12/30\n",
            "25/25 - 0s - loss: 0.0477 - accuracy: 0.9900 - val_loss: 0.6848 - val_accuracy: 0.7200 - 95ms/epoch - 4ms/step\n",
            "Epoch 13/30\n",
            "25/25 - 0s - loss: 0.0399 - accuracy: 0.9937 - val_loss: 0.7246 - val_accuracy: 0.7000 - 114ms/epoch - 5ms/step\n",
            "Epoch 14/30\n",
            "25/25 - 0s - loss: 0.0341 - accuracy: 0.9925 - val_loss: 0.7588 - val_accuracy: 0.7200 - 87ms/epoch - 3ms/step\n",
            "Epoch 15/30\n",
            "25/25 - 0s - loss: 0.0274 - accuracy: 0.9950 - val_loss: 0.7969 - val_accuracy: 0.7100 - 95ms/epoch - 4ms/step\n",
            "Epoch 16/30\n",
            "25/25 - 0s - loss: 0.0236 - accuracy: 0.9962 - val_loss: 0.8256 - val_accuracy: 0.7100 - 88ms/epoch - 4ms/step\n",
            "Epoch 17/30\n",
            "25/25 - 0s - loss: 0.0221 - accuracy: 0.9962 - val_loss: 0.9022 - val_accuracy: 0.7100 - 85ms/epoch - 3ms/step\n",
            "Epoch 18/30\n",
            "25/25 - 0s - loss: 0.0207 - accuracy: 0.9962 - val_loss: 0.8795 - val_accuracy: 0.7100 - 82ms/epoch - 3ms/step\n",
            "Epoch 19/30\n",
            "25/25 - 0s - loss: 0.0180 - accuracy: 0.9962 - val_loss: 0.9078 - val_accuracy: 0.7050 - 96ms/epoch - 4ms/step\n",
            "Epoch 20/30\n",
            "25/25 - 0s - loss: 0.0171 - accuracy: 0.9962 - val_loss: 0.9364 - val_accuracy: 0.7100 - 99ms/epoch - 4ms/step\n",
            "Epoch 21/30\n",
            "25/25 - 0s - loss: 0.0167 - accuracy: 0.9950 - val_loss: 0.9897 - val_accuracy: 0.7200 - 86ms/epoch - 3ms/step\n",
            "Epoch 22/30\n",
            "25/25 - 0s - loss: 0.0146 - accuracy: 0.9962 - val_loss: 0.9849 - val_accuracy: 0.6900 - 95ms/epoch - 4ms/step\n",
            "Epoch 23/30\n",
            "25/25 - 0s - loss: 0.0143 - accuracy: 0.9962 - val_loss: 1.0498 - val_accuracy: 0.7250 - 100ms/epoch - 4ms/step\n",
            "Epoch 24/30\n",
            "25/25 - 0s - loss: 0.0155 - accuracy: 0.9962 - val_loss: 1.0286 - val_accuracy: 0.6900 - 89ms/epoch - 4ms/step\n",
            "Epoch 25/30\n",
            "25/25 - 0s - loss: 0.0136 - accuracy: 0.9962 - val_loss: 1.0523 - val_accuracy: 0.6900 - 83ms/epoch - 3ms/step\n",
            "Epoch 26/30\n",
            "25/25 - 0s - loss: 0.0114 - accuracy: 0.9950 - val_loss: 1.0772 - val_accuracy: 0.7100 - 94ms/epoch - 4ms/step\n",
            "Epoch 27/30\n",
            "25/25 - 0s - loss: 0.0133 - accuracy: 0.9962 - val_loss: 1.0902 - val_accuracy: 0.6900 - 92ms/epoch - 4ms/step\n",
            "Epoch 28/30\n",
            "25/25 - 0s - loss: 0.0107 - accuracy: 0.9962 - val_loss: 1.1046 - val_accuracy: 0.6850 - 99ms/epoch - 4ms/step\n",
            "Epoch 29/30\n",
            "25/25 - 0s - loss: 0.0099 - accuracy: 0.9962 - val_loss: 1.1216 - val_accuracy: 0.6850 - 83ms/epoch - 3ms/step\n",
            "Epoch 30/30\n",
            "25/25 - 0s - loss: 0.0101 - accuracy: 0.9962 - val_loss: 1.1407 - val_accuracy: 0.6850 - 86ms/epoch - 3ms/step\n"
          ]
        }
      ]
    },
    {
      "cell_type": "code",
      "source": [
        "plt.style.use(\"ggplot\")\n",
        "plt.figure(figsize=(10,10))\n",
        "plt.plot(np.arange(0, num_epochs), modelku.history[\"accuracy\"], label=\"training\")\n",
        "plt.plot(np.arange(0, num_epochs), modelku.history[\"val_accuracy\"], label=\"validation\")\n",
        "plt.title(\"Plot Akurasi\")\n",
        "plt.xlabel(\"Epoch\")\n",
        "plt.ylabel(\"Akurasi\")\n",
        "plt.legend()\n",
        "plt.savefig('images/plot_acc.png')\n",
        "plt.show()"
      ],
      "metadata": {
        "colab": {
          "base_uri": "https://localhost:8080/",
          "height": 877
        },
        "id": "63H14vTFoXXZ",
        "outputId": "92c435d8-5b3d-4a12-94b6-e2675d586cb6"
      },
      "execution_count": 22,
      "outputs": [
        {
          "output_type": "display_data",
          "data": {
            "text/plain": [
              "<Figure size 1000x1000 with 1 Axes>"
            ],
            "image/png": "[encoded data removed]"
          },
          "metadata": {}
        }
      ]
    },
    {
      "cell_type": "code",
      "source": [
        "model.save('model.h5')"
      ],
      "metadata": {
        "colab": {
          "base_uri": "https://localhost:8080/"
        },
        "id": "rpIII1vzlnim",
        "outputId": "c14e48ee-80b1-4518-9343-e2de5817e3c5"
      },
      "execution_count": 15,
      "outputs": [
        {
          "output_type": "stream",
          "name": "stderr",
          "text": [
            "/usr/local/lib/python3.10/dist-packages/keras/src/engine/training.py:3103: UserWarning: You are saving your model as an HDF5 file via `model.save()`. This file format is considered legacy. We recommend using instead the native Keras format, e.g. `model.save('my_model.keras')`.\n",
            "  saving_api.save_model(\n"
          ]
        }
      ]
    },
    {
      "cell_type": "code",
      "source": [
        "# install tensorflow js\n",
        "!pip install tensorflowjs\n",
        "\n",
        "# convert model.h5 to model\n",
        "!tensorflowjs_converter --input_format=keras model.h5 tfjs_model"
      ],
      "metadata": {
        "colab": {
          "base_uri": "https://localhost:8080/"
        },
        "id": "j2m-8iyqltDS",
        "outputId": "de64091c-b3d7-4428-f613-ad15b87c32f8"
      },
      "execution_count": 16,
      "outputs": [
        {
          "output_type": "stream",
          "name": "stdout",
          "text": [
            "Collecting tensorflowjs\n",
            "  Downloading tensorflowjs-4.15.0-py3-none-any.whl (89 kB)\n",
            "\u001b[?25l     \u001b[90m━━━━━━━━━━━━━━━━━━━━━━━━━━━━━━━━━━━━━━━━\u001b[0m \u001b[32m0.0/89.2 kB\u001b[0m \u001b[31m?\u001b[0m eta \u001b[36m-:--:--\u001b[0m\r\u001b[2K     \u001b[91m━━━━━━━━━━━━━━━━━━━━━━━━━━━━━━━━━━━━\u001b[0m\u001b[91m╸\u001b[0m\u001b[90m━━━\u001b[0m \u001b[32m81.9/89.2 kB\u001b[0m \u001b[31m2.5 MB/s\u001b[0m eta \u001b[36m0:00:01\u001b[0m\r\u001b[2K     \u001b[90m━━━━━━━━━━━━━━━━━━━━━━━━━━━━━━━━━━━━━━━━\u001b[0m \u001b[32m89.2/89.2 kB\u001b[0m \u001b[31m2.1 MB/s\u001b[0m eta \u001b[36m0:00:00\u001b[0m\n",
            "\u001b[?25hRequirement already satisfied: flax>=0.7.2 in /usr/local/lib/python3.10/dist-packages (from tensorflowjs) (0.7.5)\n",
            "Requirement already satisfied: importlib_resources>=5.9.0 in /usr/local/lib/python3.10/dist-packages (from tensorflowjs) (6.1.1)\n",
            "Requirement already satisfied: jax>=0.4.13 in /usr/local/lib/python3.10/dist-packages (from tensorflowjs) (0.4.20)\n",
            "Requirement already satisfied: jaxlib>=0.4.13 in /usr/local/lib/python3.10/dist-packages (from tensorflowjs) (0.4.20+cuda12.cudnn89)\n",
            "Requirement already satisfied: tensorflow<3,>=2.13.0 in /usr/local/lib/python3.10/dist-packages (from tensorflowjs) (2.15.0)\n",
            "Collecting tensorflow-decision-forests>=1.5.0 (from tensorflowjs)\n",
            "  Downloading tensorflow_decision_forests-1.8.1-cp310-cp310-manylinux_2_17_x86_64.manylinux2014_x86_64.whl (15.3 MB)\n",
            "\u001b[2K     \u001b[90m━━━━━━━━━━━━━━━━━━━━━━━━━━━━━━━━━━━━━━━━\u001b[0m \u001b[32m15.3/15.3 MB\u001b[0m \u001b[31m32.5 MB/s\u001b[0m eta \u001b[36m0:00:00\u001b[0m\n",
            "\u001b[?25hRequirement already satisfied: six<2,>=1.16.0 in /usr/local/lib/python3.10/dist-packages (from tensorflowjs) (1.16.0)\n",
            "Requirement already satisfied: tensorflow-hub>=0.14.0 in /usr/local/lib/python3.10/dist-packages (from tensorflowjs) (0.15.0)\n",
            "Requirement already satisfied: packaging~=23.1 in /usr/local/lib/python3.10/dist-packages (from tensorflowjs) (23.2)\n",
            "Requirement already satisfied: numpy>=1.22 in /usr/local/lib/python3.10/dist-packages (from flax>=0.7.2->tensorflowjs) (1.23.5)\n",
            "Requirement already satisfied: msgpack in /usr/local/lib/python3.10/dist-packages (from flax>=0.7.2->tensorflowjs) (1.0.7)\n",
            "Requirement already satisfied: optax in /usr/local/lib/python3.10/dist-packages (from flax>=0.7.2->tensorflowjs) (0.1.7)\n",
            "Requirement already satisfied: orbax-checkpoint in /usr/local/lib/python3.10/dist-packages (from flax>=0.7.2->tensorflowjs) (0.4.4)\n",
            "Requirement already satisfied: tensorstore in /usr/local/lib/python3.10/dist-packages (from flax>=0.7.2->tensorflowjs) (0.1.45)\n",
            "Requirement already satisfied: rich>=11.1 in /usr/local/lib/python3.10/dist-packages (from flax>=0.7.2->tensorflowjs) (13.7.0)\n",
            "Requirement already satisfied: typing-extensions>=4.2 in /usr/local/lib/python3.10/dist-packages (from flax>=0.7.2->tensorflowjs) (4.5.0)\n",
            "Requirement already satisfied: PyYAML>=5.4.1 in /usr/local/lib/python3.10/dist-packages (from flax>=0.7.2->tensorflowjs) (6.0.1)\n",
            "Requirement already satisfied: ml-dtypes>=0.2.0 in /usr/local/lib/python3.10/dist-packages (from jax>=0.4.13->tensorflowjs) (0.2.0)\n",
            "Requirement already satisfied: opt-einsum in /usr/local/lib/python3.10/dist-packages (from jax>=0.4.13->tensorflowjs) (3.3.0)\n",
            "Requirement already satisfied: scipy>=1.9 in /usr/local/lib/python3.10/dist-packages (from jax>=0.4.13->tensorflowjs) (1.11.4)\n",
            "Requirement already satisfied: absl-py>=1.0.0 in /usr/local/lib/python3.10/dist-packages (from tensorflow<3,>=2.13.0->tensorflowjs) (1.4.0)\n",
            "Requirement already satisfied: astunparse>=1.6.0 in /usr/local/lib/python3.10/dist-packages (from tensorflow<3,>=2.13.0->tensorflowjs) (1.6.3)\n",
            "Requirement already satisfied: flatbuffers>=23.5.26 in /usr/local/lib/python3.10/dist-packages (from tensorflow<3,>=2.13.0->tensorflowjs) (23.5.26)\n",
            "Requirement already satisfied: gast!=0.5.0,!=0.5.1,!=0.5.2,>=0.2.1 in /usr/local/lib/python3.10/dist-packages (from tensorflow<3,>=2.13.0->tensorflowjs) (0.5.4)\n",
            "Requirement already satisfied: google-pasta>=0.1.1 in /usr/local/lib/python3.10/dist-packages (from tensorflow<3,>=2.13.0->tensorflowjs) (0.2.0)\n",
            "Requirement already satisfied: h5py>=2.9.0 in /usr/local/lib/python3.10/dist-packages (from tensorflow<3,>=2.13.0->tensorflowjs) (3.9.0)\n",
            "Requirement already satisfied: libclang>=13.0.0 in /usr/local/lib/python3.10/dist-packages (from tensorflow<3,>=2.13.0->tensorflowjs) (16.0.6)\n",
            "Requirement already satisfied: protobuf!=4.21.0,!=4.21.1,!=4.21.2,!=4.21.3,!=4.21.4,!=4.21.5,<5.0.0dev,>=3.20.3 in /usr/local/lib/python3.10/dist-packages (from tensorflow<3,>=2.13.0->tensorflowjs) (3.20.3)\n",
            "Requirement already satisfied: setuptools in /usr/local/lib/python3.10/dist-packages (from tensorflow<3,>=2.13.0->tensorflowjs) (67.7.2)\n",
            "Requirement already satisfied: termcolor>=1.1.0 in /usr/local/lib/python3.10/dist-packages (from tensorflow<3,>=2.13.0->tensorflowjs) (2.4.0)\n",
            "Requirement already satisfied: wrapt<1.15,>=1.11.0 in /usr/local/lib/python3.10/dist-packages (from tensorflow<3,>=2.13.0->tensorflowjs) (1.14.1)\n",
            "Requirement already satisfied: tensorflow-io-gcs-filesystem>=0.23.1 in /usr/local/lib/python3.10/dist-packages (from tensorflow<3,>=2.13.0->tensorflowjs) (0.34.0)\n",
            "Requirement already satisfied: grpcio<2.0,>=1.24.3 in /usr/local/lib/python3.10/dist-packages (from tensorflow<3,>=2.13.0->tensorflowjs) (1.60.0)\n",
            "Requirement already satisfied: tensorboard<2.16,>=2.15 in /usr/local/lib/python3.10/dist-packages (from tensorflow<3,>=2.13.0->tensorflowjs) (2.15.1)\n",
            "Requirement already satisfied: tensorflow-estimator<2.16,>=2.15.0 in /usr/local/lib/python3.10/dist-packages (from tensorflow<3,>=2.13.0->tensorflowjs) (2.15.0)\n",
            "Requirement already satisfied: keras<2.16,>=2.15.0 in /usr/local/lib/python3.10/dist-packages (from tensorflow<3,>=2.13.0->tensorflowjs) (2.15.0)\n",
            "Requirement already satisfied: pandas in /usr/local/lib/python3.10/dist-packages (from tensorflow-decision-forests>=1.5.0->tensorflowjs) (1.5.3)\n",
            "Requirement already satisfied: wheel in /usr/local/lib/python3.10/dist-packages (from tensorflow-decision-forests>=1.5.0->tensorflowjs) (0.42.0)\n",
            "Collecting wurlitzer (from tensorflow-decision-forests>=1.5.0->tensorflowjs)\n",
            "  Downloading wurlitzer-3.0.3-py3-none-any.whl (7.3 kB)\n",
            "Requirement already satisfied: markdown-it-py>=2.2.0 in /usr/local/lib/python3.10/dist-packages (from rich>=11.1->flax>=0.7.2->tensorflowjs) (3.0.0)\n",
            "Requirement already satisfied: pygments<3.0.0,>=2.13.0 in /usr/local/lib/python3.10/dist-packages (from rich>=11.1->flax>=0.7.2->tensorflowjs) (2.16.1)\n",
            "Requirement already satisfied: google-auth<3,>=1.6.3 in /usr/local/lib/python3.10/dist-packages (from tensorboard<2.16,>=2.15->tensorflow<3,>=2.13.0->tensorflowjs) (2.17.3)\n",
            "Requirement already satisfied: google-auth-oauthlib<2,>=0.5 in /usr/local/lib/python3.10/dist-packages (from tensorboard<2.16,>=2.15->tensorflow<3,>=2.13.0->tensorflowjs) (1.2.0)\n",
            "Requirement already satisfied: markdown>=2.6.8 in /usr/local/lib/python3.10/dist-packages (from tensorboard<2.16,>=2.15->tensorflow<3,>=2.13.0->tensorflowjs) (3.5.1)\n",
            "Requirement already satisfied: requests<3,>=2.21.0 in /usr/local/lib/python3.10/dist-packages (from tensorboard<2.16,>=2.15->tensorflow<3,>=2.13.0->tensorflowjs) (2.31.0)\n",
            "Requirement already satisfied: tensorboard-data-server<0.8.0,>=0.7.0 in /usr/local/lib/python3.10/dist-packages (from tensorboard<2.16,>=2.15->tensorflow<3,>=2.13.0->tensorflowjs) (0.7.2)\n",
            "Requirement already satisfied: werkzeug>=1.0.1 in /usr/local/lib/python3.10/dist-packages (from tensorboard<2.16,>=2.15->tensorflow<3,>=2.13.0->tensorflowjs) (3.0.1)\n",
            "Requirement already satisfied: chex>=0.1.5 in /usr/local/lib/python3.10/dist-packages (from optax->flax>=0.7.2->tensorflowjs) (0.1.7)\n",
            "Requirement already satisfied: etils[epath,epy] in /usr/local/lib/python3.10/dist-packages (from orbax-checkpoint->flax>=0.7.2->tensorflowjs) (1.6.0)\n",
            "Requirement already satisfied: nest_asyncio in /usr/local/lib/python3.10/dist-packages (from orbax-checkpoint->flax>=0.7.2->tensorflowjs) (1.5.8)\n",
            "Requirement already satisfied: python-dateutil>=2.8.1 in /usr/local/lib/python3.10/dist-packages (from pandas->tensorflow-decision-forests>=1.5.0->tensorflowjs) (2.8.2)\n",
            "Requirement already satisfied: pytz>=2020.1 in /usr/local/lib/python3.10/dist-packages (from pandas->tensorflow-decision-forests>=1.5.0->tensorflowjs) (2023.3.post1)\n",
            "Requirement already satisfied: dm-tree>=0.1.5 in /usr/local/lib/python3.10/dist-packages (from chex>=0.1.5->optax->flax>=0.7.2->tensorflowjs) (0.1.8)\n",
            "Requirement already satisfied: toolz>=0.9.0 in /usr/local/lib/python3.10/dist-packages (from chex>=0.1.5->optax->flax>=0.7.2->tensorflowjs) (0.12.0)\n",
            "Requirement already satisfied: cachetools<6.0,>=2.0.0 in /usr/local/lib/python3.10/dist-packages (from google-auth<3,>=1.6.3->tensorboard<2.16,>=2.15->tensorflow<3,>=2.13.0->tensorflowjs) (5.3.2)\n",
            "Requirement already satisfied: pyasn1-modules>=0.2.1 in /usr/local/lib/python3.10/dist-packages (from google-auth<3,>=1.6.3->tensorboard<2.16,>=2.15->tensorflow<3,>=2.13.0->tensorflowjs) (0.3.0)\n",
            "Requirement already satisfied: rsa<5,>=3.1.4 in /usr/local/lib/python3.10/dist-packages (from google-auth<3,>=1.6.3->tensorboard<2.16,>=2.15->tensorflow<3,>=2.13.0->tensorflowjs) (4.9)\n",
            "Requirement already satisfied: requests-oauthlib>=0.7.0 in /usr/local/lib/python3.10/dist-packages (from google-auth-oauthlib<2,>=0.5->tensorboard<2.16,>=2.15->tensorflow<3,>=2.13.0->tensorflowjs) (1.3.1)\n",
            "Requirement already satisfied: mdurl~=0.1 in /usr/local/lib/python3.10/dist-packages (from markdown-it-py>=2.2.0->rich>=11.1->flax>=0.7.2->tensorflowjs) (0.1.2)\n",
            "Requirement already satisfied: charset-normalizer<4,>=2 in /usr/local/lib/python3.10/dist-packages (from requests<3,>=2.21.0->tensorboard<2.16,>=2.15->tensorflow<3,>=2.13.0->tensorflowjs) (3.3.2)\n",
            "Requirement already satisfied: idna<4,>=2.5 in /usr/local/lib/python3.10/dist-packages (from requests<3,>=2.21.0->tensorboard<2.16,>=2.15->tensorflow<3,>=2.13.0->tensorflowjs) (3.6)\n",
            "Requirement already satisfied: urllib3<3,>=1.21.1 in /usr/local/lib/python3.10/dist-packages (from requests<3,>=2.21.0->tensorboard<2.16,>=2.15->tensorflow<3,>=2.13.0->tensorflowjs) (2.0.7)\n",
            "Requirement already satisfied: certifi>=2017.4.17 in /usr/local/lib/python3.10/dist-packages (from requests<3,>=2.21.0->tensorboard<2.16,>=2.15->tensorflow<3,>=2.13.0->tensorflowjs) (2023.11.17)\n",
            "Requirement already satisfied: MarkupSafe>=2.1.1 in /usr/local/lib/python3.10/dist-packages (from werkzeug>=1.0.1->tensorboard<2.16,>=2.15->tensorflow<3,>=2.13.0->tensorflowjs) (2.1.3)\n",
            "Requirement already satisfied: fsspec in /usr/local/lib/python3.10/dist-packages (from etils[epath,epy]->orbax-checkpoint->flax>=0.7.2->tensorflowjs) (2023.6.0)\n",
            "Requirement already satisfied: zipp in /usr/local/lib/python3.10/dist-packages (from etils[epath,epy]->orbax-checkpoint->flax>=0.7.2->tensorflowjs) (3.17.0)\n",
            "Requirement already satisfied: pyasn1<0.6.0,>=0.4.6 in /usr/local/lib/python3.10/dist-packages (from pyasn1-modules>=0.2.1->google-auth<3,>=1.6.3->tensorboard<2.16,>=2.15->tensorflow<3,>=2.13.0->tensorflowjs) (0.5.1)\n",
            "Requirement already satisfied: oauthlib>=3.0.0 in /usr/local/lib/python3.10/dist-packages (from requests-oauthlib>=0.7.0->google-auth-oauthlib<2,>=0.5->tensorboard<2.16,>=2.15->tensorflow<3,>=2.13.0->tensorflowjs) (3.2.2)\n",
            "Installing collected packages: wurlitzer, tensorflow-decision-forests, tensorflowjs\n",
            "Successfully installed tensorflow-decision-forests-1.8.1 tensorflowjs-4.15.0 wurlitzer-3.0.3\n",
            "2023-12-19 15:01:14.516631: E external/local_xla/xla/stream_executor/cuda/cuda_dnn.cc:9261] Unable to register cuDNN factory: Attempting to register factory for plugin cuDNN when one has already been registered\n",
            "2023-12-19 15:01:14.516708: E external/local_xla/xla/stream_executor/cuda/cuda_fft.cc:607] Unable to register cuFFT factory: Attempting to register factory for plugin cuFFT when one has already been registered\n",
            "2023-12-19 15:01:14.519711: E external/local_xla/xla/stream_executor/cuda/cuda_blas.cc:1515] Unable to register cuBLAS factory: Attempting to register factory for plugin cuBLAS when one has already been registered\n",
            "2023-12-19 15:01:15.939176: W tensorflow/compiler/tf2tensorrt/utils/py_utils.cc:38] TF-TRT Warning: Could not find TensorRT\n"
          ]
        }
      ]
    }
  ]
}