{
  "cells": [
    {
      "cell_type": "markdown",
      "source": [
        "## Original version: https://colab.research.google.com/github/tensorflow/recommenders/blob/main/docs/examples/quickstart.ipynb"
      ],
      "metadata": {
        "id": "_n7PDV_vo2ZC"
      }
    },
    {
      "cell_type": "markdown",
      "metadata": {
        "id": "_dEaVsqSgNyQ"
      },
      "source": [
        "##### Copyright 2020 The TensorFlow Authors."
      ]
    },
    {
      "cell_type": "code",
      "execution_count": null,
      "metadata": {
        "cellView": "form",
        "id": "4FyfuZX-gTKS"
      },
      "outputs": [],
      "source": [
        "#@title Licensed under the Apache License, Version 2.0 (the \"License\");\n",
        "# you may not use this file except in compliance with the License.\n",
        "# You may obtain a copy of the License at\n",
        "#\n",
        "# https://www.apache.org/licenses/LICENSE-2.0\n",
        "#\n",
        "# Unless required by applicable law or agreed to in writing, software\n",
        "# distributed under the License is distributed on an \"AS IS\" BASIS,\n",
        "# WITHOUT WARRANTIES OR CONDITIONS OF ANY KIND, either express or implied.\n",
        "# See the License for the specific language governing permissions and\n",
        "# limitations under the License."
      ]
    },
    {
      "cell_type": "markdown",
      "metadata": {
        "id": "sT8AyHRMNh41"
      },
      "source": [
        "# TensorFlow Recommenders: Quickstart\n",
        "\n",
        "<table class=\"tfo-notebook-buttons\" align=\"left\">\n",
        "  <td>\n",
        "    <a target=\"_blank\" href=\"https://www.tensorflow.org/recommenders/quickstart\"><img src=\"https://www.tensorflow.org/images/tf_logo_32px.png\" />View on TensorFlow.org</a>\n",
        "  </td>\n",
        "  <td>\n",
        "    <a target=\"_blank\" href=\"https://colab.research.google.com/github/tensorflow/recommenders/blob/main/docs/examples/quickstart.ipynb\"><img src=\"https://www.tensorflow.org/images/colab_logo_32px.png\" />Run in Google Colab</a>\n",
        "  </td>\n",
        "  <td>\n",
        "    <a target=\"_blank\" href=\"https://github.com/tensorflow/recommenders/blob/main/docs/examples/quickstart.ipynb\"><img src=\"https://www.tensorflow.org/images/GitHub-Mark-32px.png\" />View source on GitHub</a>\n",
        "  </td>\n",
        "  <td>\n",
        "    <a href=\"https://storage.googleapis.com/tensorflow_docs/recommenders/docs/examples/quickstart.ipynb\"><img src=\"https://www.tensorflow.org/images/download_logo_32px.png\" />Download notebook</a>\n",
        "  </td>\n",
        "</table>"
      ]
    },
    {
      "cell_type": "markdown",
      "metadata": {
        "id": "8f-reQ11gbLB"
      },
      "source": [
        "In this tutorial, we build a simple matrix factorization model using the [MovieLens 100K dataset](https://grouplens.org/datasets/movielens/100k/) with TFRS. We can use this model to recommend movies for a given user."
      ]
    },
    {
      "cell_type": "markdown",
      "metadata": {
        "id": "qA00wBE2Ntdm"
      },
      "source": [
        "### Import TFRS\n",
        "\n",
        "First, install and import TFRS:"
      ]
    },
    {
      "cell_type": "code",
      "execution_count": null,
      "metadata": {
        "id": "6yzAaM85Z12D",
        "colab": {
          "base_uri": "https://localhost:8080/"
        },
        "outputId": "cd814b0d-135e-4cd9-e9fa-fb1c24afed25"
      },
      "outputs": [
        {
          "output_type": "stream",
          "name": "stdout",
          "text": [
            "\u001b[?25l     \u001b[90m━━━━━━━━━━━━━━━━━━━━━━━━━━━━━━━━━━━━━━━━\u001b[0m \u001b[32m0.0/96.2 kB\u001b[0m \u001b[31m?\u001b[0m eta \u001b[36m-:--:--\u001b[0m\r\u001b[2K     \u001b[91m━━━━━━━━━━━━━━━━━━━━━━━━━\u001b[0m\u001b[91m╸\u001b[0m\u001b[90m━━━━━━━━━━━━━━\u001b[0m \u001b[32m61.4/96.2 kB\u001b[0m \u001b[31m1.6 MB/s\u001b[0m eta \u001b[36m0:00:01\u001b[0m\r\u001b[2K     \u001b[90m━━━━━━━━━━━━━━━━━━━━━━━━━━━━━━━━━━━━━━━━\u001b[0m \u001b[32m96.2/96.2 kB\u001b[0m \u001b[31m1.7 MB/s\u001b[0m eta \u001b[36m0:00:00\u001b[0m\n",
            "\u001b[?25h"
          ]
        }
      ],
      "source": [
        "!pip install -q tensorflow-recommenders\n",
        "!pip install -q --upgrade tensorflow-datasets"
      ]
    },
    {
      "cell_type": "code",
      "execution_count": null,
      "metadata": {
        "id": "n3oYt3R6Nr9l"
      },
      "outputs": [],
      "source": [
        "from typing import Dict, Text\n",
        "\n",
        "import numpy as np\n",
        "import tensorflow as tf\n",
        "\n",
        "import tensorflow_datasets as tfds\n",
        "import tensorflow_recommenders as tfrs"
      ]
    },
    {
      "cell_type": "markdown",
      "metadata": {
        "id": "zCxQ1CZcO2wh"
      },
      "source": [
        "### Read the data"
      ]
    },
    {
      "cell_type": "code",
      "source": [
        "# Ratings data.\n",
        "ratings = tfds.load('movielens/100k-ratings', split=\"train\")\n",
        "# Features of all the available movies.\n",
        "movies = tfds.load('movielens/100k-movies', split=\"train\")"
      ],
      "metadata": {
        "id": "w_JWCTf_iu8q"
      },
      "execution_count": null,
      "outputs": []
    },
    {
      "cell_type": "code",
      "source": [
        "list(ratings.take(1).as_numpy_iterator())"
      ],
      "metadata": {
        "colab": {
          "base_uri": "https://localhost:8080/"
        },
        "id": "SlPHc7g2jvlM",
        "outputId": "a9aa7e3b-4106-482e-b01e-34efc7c05781"
      },
      "execution_count": null,
      "outputs": [
        {
          "output_type": "execute_result",
          "data": {
            "text/plain": [
              "[{'bucketized_user_age': 45.0,\n",
              "  'movie_genres': array([7]),\n",
              "  'movie_id': b'357',\n",
              "  'movie_title': b\"One Flew Over the Cuckoo's Nest (1975)\",\n",
              "  'raw_user_age': 46.0,\n",
              "  'timestamp': 879024327,\n",
              "  'user_gender': True,\n",
              "  'user_id': b'138',\n",
              "  'user_occupation_label': 4,\n",
              "  'user_occupation_text': b'doctor',\n",
              "  'user_rating': 4.0,\n",
              "  'user_zip_code': b'53211'}]"
            ]
          },
          "metadata": {},
          "execution_count": 16
        }
      ]
    },
    {
      "cell_type": "code",
      "source": [
        "list(movies.take(1).as_numpy_iterator())"
      ],
      "metadata": {
        "colab": {
          "base_uri": "https://localhost:8080/"
        },
        "id": "R9I-yi1-kpWy",
        "outputId": "4b1e54e5-0ca4-4434-e607-6b1910c83fbe"
      },
      "execution_count": null,
      "outputs": [
        {
          "output_type": "execute_result",
          "data": {
            "text/plain": [
              "[{'movie_genres': array([4]),\n",
              "  'movie_id': b'1681',\n",
              "  'movie_title': b'You So Crazy (1994)'}]"
            ]
          },
          "metadata": {},
          "execution_count": 78
        }
      ]
    },
    {
      "cell_type": "code",
      "execution_count": null,
      "metadata": {
        "id": "M-mxBYjdO5m7"
      },
      "outputs": [],
      "source": [
        "# Select the basic features.\n",
        "\n",
        "# (pasangan yang memberikan rating)\n",
        "# Misal pasangan (user1, movieA) itu dianggap bahwa user1 itu telah mengunjungi dan memberikan rating + positive example\n",
        "# Movie yang belum pernah dikunjungi user1 misal (user1, movieX)\n",
        "# contoh:\n",
        "# User1 => (A, B, C)\n",
        "# User2 => (A, C)\n",
        "retrieval_data = ratings.map(lambda x: {\n",
        "    \"movie_title\": x[\"movie_title\"], # Bisa juga menggunakan movie_id\n",
        "    \"user_id\": x[\"user_id\"]\n",
        "})\n",
        "\n",
        "\n",
        "ranking_data = ratings.map(lambda x: {\n",
        "    \"movie_title\": x[\"movie_title\"], # Bisa juga menggunakan movie_id (input1)\n",
        "    \"user_id\": x[\"user_id\"], # (input 2)\n",
        "    \"user_rating\": x[\"user_rating\"] # Supervised Learning, sebagai label\n",
        "})\n",
        "# (user1, movieA) => 4 hasil prediksinya 3.8\n",
        "\n",
        "# Untuk dibuat kamus yang akan digunakan pada proses embedding\n",
        "user_ids = ratings.map(lambda x: x[\"user_id\"])\n",
        "movie_titles = movies.map(lambda x: x[\"movie_title\"]) # Jika di atas menggunakan movie_id, disini juga harus menggunakan movie_id"
      ]
    },
    {
      "cell_type": "markdown",
      "metadata": {
        "id": "5W0HSfmSNCWm"
      },
      "source": [
        "Build vocabularies to convert user ids and movie titles into integer indices for embedding layers:"
      ]
    },
    {
      "cell_type": "code",
      "execution_count": null,
      "metadata": {
        "id": "9I1VTEjHzpfX"
      },
      "outputs": [],
      "source": [
        "# Berisi unique user_id\n",
        "user_ids_vocabulary = tf.keras.layers.StringLookup(mask_token=None)\n",
        "user_ids_vocabulary.adapt(user_ids)\n",
        "\n",
        "# Berisi unique movie_title\n",
        "movie_titles_vocabulary = tf.keras.layers.StringLookup(mask_token=None)\n",
        "movie_titles_vocabulary.adapt(movie_titles)"
      ]
    },
    {
      "cell_type": "markdown",
      "source": [
        "Cara alternatif: baca user_ids, movies sebagai dataframe dengan built-in function .as_dataframe() selanjutnya filter user_id dan movie yang unique dengan built-in .unique() dilanjut dikembalikan ke format tfds dengan built-in function .from_tensor_slices()."
      ],
      "metadata": {
        "id": "uBiEZxeVpPiN"
      }
    },
    {
      "cell_type": "markdown",
      "source": [
        "## Retrieval"
      ],
      "metadata": {
        "id": "hypcCTh9JVda"
      }
    },
    {
      "cell_type": "markdown",
      "source": [
        "## Concept\n",
        "Reference: https://developers.google.com/machine-learning/recommendation/collaborative/matrix"
      ],
      "metadata": {
        "id": "IzOOEPthUd9r"
      }
    },
    {
      "cell_type": "markdown",
      "source": [
        "![image.png](data:image/png;base64,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)"
      ],
      "metadata": {
        "id": "UqUDh1BAYPEX"
      }
    },
    {
      "cell_type": "markdown",
      "metadata": {
        "id": "Lrch6rVBOB9Q"
      },
      "source": [
        "### Define a model\n",
        "\n",
        "We can define a TFRS model by inheriting from `tfrs.Model` and implementing the `compute_loss` method:"
      ]
    },
    {
      "cell_type": "code",
      "execution_count": null,
      "metadata": {
        "id": "e5dNbDZwOIHR"
      },
      "outputs": [],
      "source": [
        "class MovieLensModelRetrieval(tfrs.Model):\n",
        "  # We derive from a custom base class to help reduce boilerplate. Under the hood,\n",
        "  # these are still plain Keras Models.\n",
        "\n",
        "  def __init__(\n",
        "      self,\n",
        "      user_model: tf.keras.Model,\n",
        "      movie_model: tf.keras.Model,\n",
        "      task: tfrs.tasks.Retrieval):\n",
        "    super().__init__()\n",
        "\n",
        "    # Set up user and movie representations.\n",
        "    self.user_model = user_model\n",
        "    self.movie_model = movie_model\n",
        "\n",
        "    # Set up a retrieval task.\n",
        "    self.task = task\n",
        "\n",
        "  def compute_loss(self, features: Dict[Text, tf.Tensor], training=False) -> tf.Tensor:\n",
        "    # Define how the loss is computed.\n",
        "\n",
        "    user_embeddings = self.user_model(features[\"user_id\"])\n",
        "    movie_embeddings = self.movie_model(features[\"movie_title\"])\n",
        "\n",
        "    return self.task(user_embeddings, movie_embeddings)"
      ]
    },
    {
      "cell_type": "markdown",
      "metadata": {
        "id": "wdwtgUCEOI8y"
      },
      "source": [
        "Define the two models and the retrieval task."
      ]
    },
    {
      "cell_type": "code",
      "execution_count": null,
      "metadata": {
        "id": "EvtnUN6aUY4U"
      },
      "outputs": [],
      "source": [
        "# Define user and movie models.\n",
        "user_model = tf.keras.Sequential([\n",
        "    user_ids_vocabulary,\n",
        "    tf.keras.layers.Embedding(user_ids_vocabulary.vocabulary_size(), 64)\n",
        "])\n",
        "movie_model = tf.keras.Sequential([\n",
        "    movie_titles_vocabulary,\n",
        "    tf.keras.layers.Embedding(movie_titles_vocabulary.vocabulary_size(), 64)\n",
        "])\n",
        "\n",
        "# Define your objectives.\n",
        "task_retrieval = tfrs.tasks.Retrieval(metrics=tfrs.metrics.FactorizedTopK(\n",
        "    movie_titles.batch(128).map(movie_model)\n",
        "  )\n",
        ")\n",
        "# The default metric is top K categorical accuracy: how often the true candidate\n",
        "# is in the top K candidates for a given query. (Perlu ulik lagi)"
      ]
    },
    {
      "cell_type": "code",
      "source": [
        "sample_user_1 = user_model.predict([\"42\"]) # matrix: 1 x 64\n",
        "print(sample_user_1)"
      ],
      "metadata": {
        "colab": {
          "base_uri": "https://localhost:8080/"
        },
        "id": "VZVW54HWfJWg",
        "outputId": "d1bbbc92-c0c3-4264-a77b-e1a9fd45f0f2"
      },
      "execution_count": null,
      "outputs": [
        {
          "output_type": "stream",
          "name": "stdout",
          "text": [
            "1/1 [==============================] - 0s 67ms/step\n",
            "[[-0.04001808  0.04735063 -0.02817332 -0.01653726  0.04297541  0.02575347\n",
            "   0.01109767 -0.03407957  0.02270674  0.00613096 -0.03450948 -0.03203171\n",
            "  -0.03695223 -0.00309051  0.03598097  0.03246683  0.03617326  0.03427935\n",
            "  -0.00034767  0.00280958  0.03960968 -0.04610721 -0.00149896  0.00038465\n",
            "   0.02021703  0.02387512 -0.01745998  0.02482647 -0.03048439  0.04021168\n",
            "   0.04684747 -0.02936574  0.00775294  0.03893486 -0.01140497 -0.00832929\n",
            "   0.00464154 -0.04997459  0.04337371  0.01637057 -0.00171577  0.0118577\n",
            "   0.04092621 -0.04118481  0.03182891 -0.02673761  0.04380232 -0.00972774\n",
            "   0.00401648 -0.03680653 -0.04387441  0.01230124 -0.01163264 -0.00159205\n",
            "  -0.01528467  0.01449669 -0.01370708 -0.02855188  0.04730118 -0.02135208\n",
            "   0.03193862 -0.02530142  0.0226678   0.02108688]]\n"
          ]
        }
      ]
    },
    {
      "cell_type": "code",
      "source": [
        "sample_movie_1 = movie_model.predict([\"You So Crazy (1994)\"]) # 1 x 64\n",
        "print(sample_movie_1)"
      ],
      "metadata": {
        "colab": {
          "base_uri": "https://localhost:8080/"
        },
        "id": "iA0iHWt-fawZ",
        "outputId": "98aef163-132e-4ec2-e5e1-5ef8e346f6ff"
      },
      "execution_count": null,
      "outputs": [
        {
          "output_type": "stream",
          "name": "stdout",
          "text": [
            "1/1 [==============================] - 0s 41ms/step\n",
            "[[ 0.00879285 -0.01620381 -0.03578345 -0.02680147  0.02950775 -0.01435576\n",
            "   0.03354771  0.03271509  0.01103662 -0.01895541  0.02903922 -0.04210611\n",
            "   0.02183257  0.01656398 -0.01149078  0.03696778 -0.04328636 -0.005899\n",
            "   0.00737948 -0.03683493 -0.02573763 -0.03097776 -0.03685913 -0.0348352\n",
            "   0.04849413 -0.04088169  0.0269854   0.0212121   0.04540313  0.04817141\n",
            "  -0.00758718 -0.02758107 -0.03311634 -0.00402024  0.00423096 -0.03140428\n",
            "  -0.0171739  -0.03208469  0.04142286  0.01424697  0.00104659 -0.01181351\n",
            "   0.02726456 -0.04236888 -0.00162389  0.03014381  0.00536386 -0.03574101\n",
            "  -0.02503625 -0.03932134  0.01327478  0.04463972  0.03587074 -0.02696686\n",
            "  -0.04403484 -0.02064651 -0.03386543 -0.02979468 -0.04438173 -0.01115401\n",
            "  -0.02918975 -0.02681394 -0.03945333 -0.02256444]]\n"
          ]
        }
      ]
    },
    {
      "cell_type": "code",
      "source": [
        "task_retrieval(sample_user_1, sample_movie_1).numpy() # returnnya bukan score hasil perkalian matrix, melainkan lossnya\n",
        "# see: https://github.com/tensorflow/recommenders/blob/v0.7.3/tensorflow_recommenders/tasks/retrieval.py#L27-L211"
      ],
      "metadata": {
        "colab": {
          "base_uri": "https://localhost:8080/"
        },
        "id": "XSyEZbF_vTM1",
        "outputId": "3ef35269-56e5-457b-fb57-62bf9dfb9eee"
      },
      "execution_count": null,
      "outputs": [
        {
          "output_type": "stream",
          "name": "stderr",
          "text": [
            "/usr/local/lib/python3.10/dist-packages/tensorflow/python/util/dispatch.py:1260: SyntaxWarning: In loss categorical_crossentropy, expected y_pred.shape to be (batch_size, num_classes) with num_classes > 1. Received: y_pred.shape=(1, 1). Consider using 'binary_crossentropy' if you only have 2 classes.\n",
            "  return dispatch_target(*args, **kwargs)\n"
          ]
        },
        {
          "output_type": "execute_result",
          "data": {
            "text/plain": [
              "0.0"
            ]
          },
          "metadata": {},
          "execution_count": 127
        }
      ]
    },
    {
      "cell_type": "code",
      "source": [
        "import numpy as np\n",
        "\n",
        "np.matmul(np.array(sample_user_1), np.array(sample_movie_1).T)"
      ],
      "metadata": {
        "colab": {
          "base_uri": "https://localhost:8080/"
        },
        "id": "_1ugY7BZjI9X",
        "outputId": "8d2fa79d-1ea0-4f9d-dd07-a71b0e351471"
      },
      "execution_count": null,
      "outputs": [
        {
          "output_type": "execute_result",
          "data": {
            "text/plain": [
              "array([[0.00548184]], dtype=float32)"
            ]
          },
          "metadata": {},
          "execution_count": 128
        }
      ]
    },
    {
      "cell_type": "markdown",
      "metadata": {
        "id": "BMV0HpzmJGWk"
      },
      "source": [
        "\n",
        "### Fit and evaluate it.\n",
        "\n",
        "Create the model, train it, and generate predictions:\n",
        "\n"
      ]
    },
    {
      "cell_type": "code",
      "execution_count": null,
      "metadata": {
        "id": "H2tQDhqkOKf1",
        "colab": {
          "base_uri": "https://localhost:8080/"
        },
        "outputId": "5169c191-31ab-4128-fc3d-5b162d848a1b"
      },
      "outputs": [
        {
          "output_type": "stream",
          "name": "stdout",
          "text": [
            "Epoch 1/3\n",
            "25/25 [==============================] - 37s 1s/step - factorized_top_k/top_1_categorical_accuracy: 1.0000e-04 - factorized_top_k/top_5_categorical_accuracy: 0.0014 - factorized_top_k/top_10_categorical_accuracy: 0.0046 - factorized_top_k/top_50_categorical_accuracy: 0.0445 - factorized_top_k/top_100_categorical_accuracy: 0.1025 - loss: 33082.6286 - regularization_loss: 0.0000e+00 - total_loss: 33082.6286\n",
            "Epoch 2/3\n",
            "25/25 [==============================] - 35s 1s/step - factorized_top_k/top_1_categorical_accuracy: 2.3000e-04 - factorized_top_k/top_5_categorical_accuracy: 0.0052 - factorized_top_k/top_10_categorical_accuracy: 0.0144 - factorized_top_k/top_50_categorical_accuracy: 0.1051 - factorized_top_k/top_100_categorical_accuracy: 0.2095 - loss: 31008.9005 - regularization_loss: 0.0000e+00 - total_loss: 31008.9005\n",
            "Epoch 3/3\n",
            "25/25 [==============================] - 34s 1s/step - factorized_top_k/top_1_categorical_accuracy: 6.5000e-04 - factorized_top_k/top_5_categorical_accuracy: 0.0083 - factorized_top_k/top_10_categorical_accuracy: 0.0221 - factorized_top_k/top_50_categorical_accuracy: 0.1439 - factorized_top_k/top_100_categorical_accuracy: 0.2679 - loss: 30419.2356 - regularization_loss: 0.0000e+00 - total_loss: 30419.2356\n"
          ]
        },
        {
          "output_type": "execute_result",
          "data": {
            "text/plain": [
              "<keras.src.callbacks.History at 0x7a2bf13ced10>"
            ]
          },
          "metadata": {},
          "execution_count": 14
        }
      ],
      "source": [
        "# Create a retrieval model.\n",
        "model_retrieval = MovieLensModelRetrieval(user_model, movie_model, task_retrieval)\n",
        "model_retrieval.compile(optimizer=tf.keras.optimizers.Adagrad(0.5))\n",
        "\n",
        "# Train for 3 epochs.\n",
        "model_retrieval.fit(retrieval_data.batch(4096), epochs=3)"
      ]
    },
    {
      "cell_type": "code",
      "source": [
        "# Use brute-force search to set up retrieval using the trained representations.\n",
        "index = tfrs.layers.factorized_top_k.BruteForce(model_retrieval.user_model)\n",
        "index.index_from_dataset(\n",
        "    movie_titles.batch(100).map(lambda title: (title, model_retrieval.movie_model(title))))\n",
        "\n",
        "# Get some recommendations.\n",
        "_, titles = index(np.array([\"42\"])) # Ini wajib dijalankan ketika mau menyimpan (warm up, supaya)\n",
        "print(f\"Top 3 recommendations for user 42: {titles[0, :3]}\")"
      ],
      "metadata": {
        "id": "kqhe1YQ178Qb",
        "colab": {
          "base_uri": "https://localhost:8080/"
        },
        "outputId": "2f23fe1a-fa8f-42c2-c8ef-f307642e9770"
      },
      "execution_count": null,
      "outputs": [
        {
          "output_type": "stream",
          "name": "stdout",
          "text": [
            "Top 3 recommendations for user 42: [b'Rent-a-Kid (1995)'\n",
            " b'Far From Home: The Adventures of Yellow Dog (1995)' b'Only You (1994)']\n"
          ]
        }
      ]
    },
    {
      "cell_type": "markdown",
      "source": [
        "### Save the model to deploy"
      ],
      "metadata": {
        "id": "tSe-UhFMJoL1"
      }
    },
    {
      "cell_type": "code",
      "source": [
        "index.save(\n",
        "    filepath=\"saved_model_dir/retrieval\",\n",
        "    overwrite=True,\n",
        "    save_format=\"tf\",\n",
        ")"
      ],
      "metadata": {
        "id": "Og6YxDZT8mBx",
        "colab": {
          "base_uri": "https://localhost:8080/"
        },
        "outputId": "59e3dc74-428c-4367-aa3a-64b66ede21e8"
      },
      "execution_count": null,
      "outputs": [
        {
          "output_type": "stream",
          "name": "stderr",
          "text": [
            "WARNING:tensorflow:Model's `__init__()` arguments contain non-serializable objects. Please implement a `get_config()` method in the subclassed Model for proper saving and loading. Defaulting to empty config.\n",
            "WARNING:tensorflow:Model's `__init__()` arguments contain non-serializable objects. Please implement a `get_config()` method in the subclassed Model for proper saving and loading. Defaulting to empty config.\n",
            "WARNING:tensorflow:Model's `__init__()` arguments contain non-serializable objects. Please implement a `get_config()` method in the subclassed Model for proper saving and loading. Defaulting to empty config.\n",
            "WARNING:tensorflow:Model's `__init__()` arguments contain non-serializable objects. Please implement a `get_config()` method in the subclassed Model for proper saving and loading. Defaulting to empty config.\n"
          ]
        }
      ]
    },
    {
      "cell_type": "markdown",
      "source": [
        "## Ranking"
      ],
      "metadata": {
        "id": "S2fEnU0LJcIb"
      }
    },
    {
      "cell_type": "markdown",
      "source": [
        "References: https://www.tensorflow.org/recommenders/examples/basic_ranking"
      ],
      "metadata": {
        "id": "7WexpqL4NC34"
      }
    },
    {
      "cell_type": "markdown",
      "source": [
        "### Define a Model"
      ],
      "metadata": {
        "id": "7SbHU0r1SA__"
      }
    },
    {
      "cell_type": "code",
      "source": [
        "# Model ini berfungsi untuk kalkulasi input embedding user dan embedding movie yang dipetakan menjadi satu input saja\n",
        "class RankingModel(tf.keras.Model):\n",
        "\n",
        "  def __init__(self):\n",
        "    super().__init__()\n",
        "    embedding_dimension = 32\n",
        "\n",
        "    # Compute embeddings for users.\n",
        "    self.user_embeddings = tf.keras.Sequential([\n",
        "        user_ids_vocabulary,\n",
        "        tf.keras.layers.Embedding(user_ids_vocabulary.vocabulary_size(), embedding_dimension)\n",
        "    ])\n",
        "\n",
        "\n",
        "    # Compute embeddings for movies.\n",
        "    self.movie_embeddings = tf.keras.Sequential([\n",
        "        movie_titles_vocabulary,\n",
        "        tf.keras.layers.Embedding(movie_titles_vocabulary.vocabulary_size(), embedding_dimension)\n",
        "    ])\n",
        "\n",
        "    # Compute predictions.\n",
        "    # Anggap aja seperti regresi\n",
        "    self.ratings = tf.keras.Sequential([\n",
        "      # Learn multiple dense layers.\n",
        "      tf.keras.layers.Dense(256, activation=\"relu\"),\n",
        "      tf.keras.layers.Dense(64, activation=\"relu\"),\n",
        "      # Make rating predictions in the final layer.\n",
        "      tf.keras.layers.Dense(1) # memprediksi rating yang diberikan oleh user\n",
        "\n",
        "      # misal:\n",
        "      # User1, movieA = 4\n",
        "      # User1, movieB = 5\n",
        "      # User1, movieC = 2\n",
        "\n",
        "      # User2, movieA = 3\n",
        "      # User2, movieB = 5\n",
        "  ])\n",
        "\n",
        "  def call(self, inputs):\n",
        "\n",
        "    user_id, movie_title = inputs\n",
        "\n",
        "    user_embedding = self.user_embeddings(user_id)\n",
        "    movie_embedding = self.movie_embeddings(movie_title)\n",
        "\n",
        "    return self.ratings(tf.concat([user_embedding, movie_embedding], axis=1))"
      ],
      "metadata": {
        "id": "1J4ExbZQJdEa"
      },
      "execution_count": null,
      "outputs": []
    },
    {
      "cell_type": "code",
      "source": [
        "# Hasilnya akan variatif karna masih random belum ditraining\n",
        "RankingModel()(([\"42\"], [\"One Flew Over the Cuckoo's Nest (1975)\"]))"
      ],
      "metadata": {
        "colab": {
          "base_uri": "https://localhost:8080/"
        },
        "id": "N0mOSrj7N6IO",
        "outputId": "fa965fbf-d051-4317-edd5-9db515d9ccce"
      },
      "execution_count": null,
      "outputs": [
        {
          "output_type": "execute_result",
          "data": {
            "text/plain": [
              "<tf.Tensor: shape=(1, 1), dtype=float32, numpy=array([[-0.00970521]], dtype=float32)>"
            ]
          },
          "metadata": {},
          "execution_count": 69
        }
      ]
    },
    {
      "cell_type": "code",
      "source": [
        "# Ini merupakan model utama, tujuannya untuk mengevaluasi performa model by metric\n",
        "class MovielensModelRanking(tfrs.models.Model):\n",
        "\n",
        "  def __init__(self):\n",
        "    super().__init__()\n",
        "    self.ranking_model: tf.keras.Model = RankingModel()\n",
        "    self.task: tf.keras.layers.Layer = tfrs.tasks.Ranking(\n",
        "      loss = tf.keras.losses.MeanSquaredError(),\n",
        "      metrics=[tf.keras.metrics.RootMeanSquaredError()]\n",
        "    )\n",
        "\n",
        "  def call(self, features: Dict[str, tf.Tensor]) -> tf.Tensor:\n",
        "    return self.ranking_model(\n",
        "        (features[\"user_id\"], features[\"movie_title\"]))\n",
        "\n",
        "  def compute_loss(self, features: Dict[Text, tf.Tensor], training=False) -> tf.Tensor:\n",
        "    labels = features.pop(\"user_rating\")\n",
        "\n",
        "    rating_predictions = self(features)\n",
        "\n",
        "    # The task computes the loss and the metrics.\n",
        "    return self.task(labels=labels, predictions=rating_predictions)"
      ],
      "metadata": {
        "id": "DGznbmvQOOq_"
      },
      "execution_count": null,
      "outputs": []
    },
    {
      "cell_type": "markdown",
      "source": [
        "### Fit and evaluate it"
      ],
      "metadata": {
        "id": "p-mMollwTcvW"
      }
    },
    {
      "cell_type": "code",
      "source": [
        "model_ranking = MovielensModelRanking()\n",
        "model_ranking.compile(optimizer=tf.keras.optimizers.Adagrad(learning_rate=0.1))"
      ],
      "metadata": {
        "id": "Q6xyKB2RSJG3"
      },
      "execution_count": null,
      "outputs": []
    },
    {
      "cell_type": "code",
      "source": [
        "shuffled = ranking_data.shuffle(100_000, seed=42, reshuffle_each_iteration=False)\n",
        "# 80000:20000 = 80:20\n",
        "train = shuffled.take(80_000)\n",
        "test = shuffled.skip(80_000).take(20_000)"
      ],
      "metadata": {
        "id": "3Ta5M8v_Sl9r"
      },
      "execution_count": null,
      "outputs": []
    },
    {
      "cell_type": "code",
      "source": [
        "cached_train = train.shuffle(100_000).batch(8192).cache()\n",
        "cached_test = test.batch(4096).cache()"
      ],
      "metadata": {
        "id": "bFCamqT7SPGw"
      },
      "execution_count": null,
      "outputs": []
    },
    {
      "cell_type": "code",
      "source": [
        "model_ranking.fit(cached_train, epochs=3)"
      ],
      "metadata": {
        "colab": {
          "base_uri": "https://localhost:8080/"
        },
        "id": "zyUxDnr8TpZr",
        "outputId": "5891e3a9-200f-4b63-dafe-df1abb55b3a2"
      },
      "execution_count": null,
      "outputs": [
        {
          "output_type": "stream",
          "name": "stdout",
          "text": [
            "Epoch 1/3\n",
            "10/10 [==============================] - 5s 60ms/step - root_mean_squared_error: 2.0340 - loss: 3.8833 - regularization_loss: 0.0000e+00 - total_loss: 3.8833\n",
            "Epoch 2/3\n",
            "10/10 [==============================] - 0s 42ms/step - root_mean_squared_error: 1.2185 - loss: 1.4595 - regularization_loss: 0.0000e+00 - total_loss: 1.4595\n",
            "Epoch 3/3\n",
            "10/10 [==============================] - 0s 41ms/step - root_mean_squared_error: 1.1196 - loss: 1.2468 - regularization_loss: 0.0000e+00 - total_loss: 1.2468\n"
          ]
        },
        {
          "output_type": "execute_result",
          "data": {
            "text/plain": [
              "<keras.src.callbacks.History at 0x7a2bf2989b70>"
            ]
          },
          "metadata": {},
          "execution_count": 38
        }
      ]
    },
    {
      "cell_type": "code",
      "source": [
        "model_ranking.evaluate(cached_test, return_dict=True)"
      ],
      "metadata": {
        "colab": {
          "base_uri": "https://localhost:8080/"
        },
        "id": "k4ZFPfPMTvMr",
        "outputId": "1d1dc89c-0f5d-4681-a846-6fc17d88301e"
      },
      "execution_count": null,
      "outputs": [
        {
          "output_type": "stream",
          "name": "stdout",
          "text": [
            "5/5 [==============================] - 4s 21ms/step - root_mean_squared_error: 1.1138 - loss: 1.2450 - regularization_loss: 0.0000e+00 - total_loss: 1.2450\n"
          ]
        },
        {
          "output_type": "execute_result",
          "data": {
            "text/plain": [
              "{'root_mean_squared_error': 1.1138359308242798,\n",
              " 'loss': 1.264298439025879,\n",
              " 'regularization_loss': 0,\n",
              " 'total_loss': 1.264298439025879}"
            ]
          },
          "metadata": {},
          "execution_count": 39
        }
      ]
    },
    {
      "cell_type": "code",
      "source": [
        "test_ratings = {}\n",
        "test_movie_titles = [\"M*A*S*H (1970)\", \"Dances with Wolves (1990)\", \"Speed (1994)\"] # hasil dari retrieval\n",
        "for movie_title in test_movie_titles:\n",
        "  test_ratings[movie_title] = model_ranking({\n",
        "      \"user_id\": np.array([\"42\"]),\n",
        "      \"movie_title\": np.array([movie_title])\n",
        "  })\n",
        "\n",
        "print(\"Ratings:\")\n",
        "for title, score in sorted(test_ratings.items(), key=lambda x: x[1], reverse=True):\n",
        "  print(f\"{title}: {score}\")"
      ],
      "metadata": {
        "colab": {
          "base_uri": "https://localhost:8080/"
        },
        "id": "Bs7jU3_0T1FU",
        "outputId": "a34ac577-68b8-461d-f128-2ea29ede3a35"
      },
      "execution_count": null,
      "outputs": [
        {
          "output_type": "stream",
          "name": "stdout",
          "text": [
            "Ratings:\n",
            "Speed (1994): [[3.6172514]]\n",
            "Dances with Wolves (1990): [[3.5953078]]\n",
            "M*A*S*H (1970): [[3.5192711]]\n"
          ]
        }
      ]
    },
    {
      "cell_type": "markdown",
      "source": [
        "### Save the model to deploy"
      ],
      "metadata": {
        "id": "exCcBnzjUAmt"
      }
    },
    {
      "cell_type": "code",
      "source": [
        "tf.saved_model.save(model_ranking, \"saved_model_dir/ranking\")"
      ],
      "metadata": {
        "id": "26wlHwD_UCiE"
      },
      "execution_count": null,
      "outputs": []
    },
    {
      "cell_type": "markdown",
      "source": [
        "## Integrasi Retrieval dan Ranking"
      ],
      "metadata": {
        "id": "mKwkYjNLgwmE"
      }
    },
    {
      "cell_type": "code",
      "source": [
        "# Ada user dengan Id 42 meminta rekomandasi\n",
        "# Langkah1 : melalui model retrieval kita minta 10 movie dari ribuan movie (default)\n",
        "_, predict_retrieval = index(np.array([\"42\"]))\n",
        "\n",
        "print(\"Awal=>\", predict_retrieval)\n",
        "\n",
        "# Langkah 2: ranking hasil setiap movie dalam rekomendasi\n",
        "test_ratings = {}\n",
        "test_movie_titles = list(predict_retrieval.numpy())[0] # hasil dari retrieval\n",
        "for movie_title in test_movie_titles:\n",
        "  test_ratings[movie_title] = model_ranking({\n",
        "      \"user_id\": np.array([\"42\"]),\n",
        "      \"movie_title\": np.array([movie_title])\n",
        "  })\n",
        "\n",
        "print(\"Ratings:\")\n",
        "for title, score in sorted(test_ratings.items(), key=lambda x: x[1], reverse=True):\n",
        "  print(f\"{title}: {score}\")"
      ],
      "metadata": {
        "colab": {
          "base_uri": "https://localhost:8080/"
        },
        "id": "Dk7phAj9yUwk",
        "outputId": "b6aec985-b1a7-4545-b525-6aac64c2cb1b"
      },
      "execution_count": null,
      "outputs": [
        {
          "output_type": "stream",
          "name": "stdout",
          "text": [
            "Awal=> tf.Tensor(\n",
            "[[b'Rent-a-Kid (1995)'\n",
            "  b'Far From Home: The Adventures of Yellow Dog (1995)'\n",
            "  b'Only You (1994)' b'House Arrest (1996)'\n",
            "  b'Winnie the Pooh and the Blustery Day (1968)'\n",
            "  b'Aristocats, The (1970)' b'All Dogs Go to Heaven 2 (1996)'\n",
            "  b'Just Cause (1995)' b'Nell (1994)' b'Princess Caraboo (1994)']], shape=(1, 10), dtype=string)\n",
            "Ratings:\n",
            "b'Only You (1994)': [[3.6046987]]\n",
            "b'Just Cause (1995)': [[3.584509]]\n",
            "b'Rent-a-Kid (1995)': [[3.580821]]\n",
            "b'Nell (1994)': [[3.5800443]]\n",
            "b'House Arrest (1996)': [[3.570676]]\n",
            "b'All Dogs Go to Heaven 2 (1996)': [[3.5661335]]\n",
            "b'Aristocats, The (1970)': [[3.558795]]\n",
            "b'Princess Caraboo (1994)': [[3.540567]]\n",
            "b'Winnie the Pooh and the Blustery Day (1968)': [[3.5232482]]\n",
            "b'Far From Home: The Adventures of Yellow Dog (1995)': [[3.5118697]]\n"
          ]
        }
      ]
    }
  ],
  "metadata": {
    "colab": {
      "provenance": []
    },
    "kernelspec": {
      "display_name": "Python 3",
      "name": "python3"
    }
  },
  "nbformat": 4,
  "nbformat_minor": 0
}