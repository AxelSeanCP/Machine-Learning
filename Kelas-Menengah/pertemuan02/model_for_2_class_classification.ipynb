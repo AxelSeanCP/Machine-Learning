{
  "nbformat": 4,
  "nbformat_minor": 0,
  "metadata": {
    "colab": {
      "provenance": []
    },
    "kernelspec": {
      "name": "python3",
      "display_name": "Python 3"
    },
    "language_info": {
      "name": "python"
    }
  },
  "cells": [
    {
      "cell_type": "code",
      "source": [
        "# creating model for 2 class classification\n",
        "import pandas as pd\n",
        "from sklearn import preprocessing\n",
        "from sklearn.model_selection import train_test_split\n",
        "import numpy as np\n",
        "from keras.models import Sequential\n",
        "from keras.layers import Dense"
      ],
      "metadata": {
        "id": "kJeKJ9sWC2Zg"
      },
      "execution_count": 3,
      "outputs": []
    },
    {
      "cell_type": "code",
      "execution_count": 4,
      "metadata": {
        "id": "dJYdteNbCP8z"
      },
      "outputs": [],
      "source": [
        "# upload datasets\n",
        "df = pd.read_csv('citrus.csv')\n",
        "\n",
        "# show info\n",
        "#df.info()\n",
        "#df.head()"
      ]
    },
    {
      "cell_type": "code",
      "source": [
        "# change name atribute into number\n",
        "df.loc[df.name == 'orange', 'name'] = 0\n",
        "df.loc[df.name == 'grapefruit', 'name'] = 1"
      ],
      "metadata": {
        "id": "FmMED_rACgje"
      },
      "execution_count": 5,
      "outputs": []
    },
    {
      "cell_type": "code",
      "source": [
        "# create numpy array\n",
        "dataset = df.values\n",
        "#dataset"
      ],
      "metadata": {
        "id": "x0oxyvSqCiJX"
      },
      "execution_count": 6,
      "outputs": []
    },
    {
      "cell_type": "code",
      "source": [
        "# split atribute and label in dataset\n",
        "# pick last 5 columns as atribute\n",
        "X = dataset[:,1:6]\n",
        "# bilangan sebelum koma untuk memilih baris pada dataframe\n",
        "# bilangan setelah koma untuk memilih kolom pada dataframe\n",
        "y = dataset[:,0]"
      ],
      "metadata": {
        "id": "xeqdXYSXCjnT"
      },
      "execution_count": 7,
      "outputs": []
    },
    {
      "cell_type": "code",
      "source": [
        "# normalization\n",
        "min_max_scaler = preprocessing.MinMaxScaler()\n",
        "X_scale = min_max_scaler.fit_transform(X)\n",
        "X_scale"
      ],
      "metadata": {
        "colab": {
          "base_uri": "https://localhost:8080/"
        },
        "id": "p9NGj4TAClOc",
        "outputId": "1189f270-8105-495f-c201-8a039948194f"
      },
      "execution_count": 8,
      "outputs": [
        {
          "output_type": "execute_result",
          "data": {
            "text/plain": [
              "array([[0.        , 0.        , 0.74025974, 0.63529412, 0.        ],\n",
              "       [0.07042254, 0.00738197, 0.66233766, 0.55294118, 0.01851852],\n",
              "       [0.10822832, 0.04812589, 0.53246753, 0.58823529, 0.        ],\n",
              "       ...,\n",
              "       [0.93624907, 0.97133047, 0.68831169, 0.6       , 0.33333333],\n",
              "       [0.96071164, 0.99216023, 0.35064935, 0.48235294, 0.16666667],\n",
              "       [1.        , 1.        , 0.48051948, 0.50588235, 0.        ]])"
            ]
          },
          "metadata": {},
          "execution_count": 8
        }
      ]
    },
    {
      "cell_type": "code",
      "source": [
        "# split data into train and test\n",
        "X_train, X_test, Y_train, Y_test = train_test_split(X_scale, y, test_size=0.3)"
      ],
      "metadata": {
        "id": "oAwzTI2aCmlu"
      },
      "execution_count": 9,
      "outputs": []
    },
    {
      "cell_type": "code",
      "source": [
        "# change label datatype into float32 from boolean\n",
        "Y_train = Y_train.astype(np.float32)\n",
        "Y_test = Y_test.astype(np.float32)"
      ],
      "metadata": {
        "id": "ABgPcSJvCpO0"
      },
      "execution_count": 10,
      "outputs": []
    },
    {
      "cell_type": "code",
      "source": [
        "# create neural network model\n",
        "model = Sequential([\n",
        "    Dense(32, activation=\"relu\", input_shape=(5,)),\n",
        "    Dense(32, activation=\"relu\"),\n",
        "    Dense(1, activation=\"sigmoid\")\n",
        "])"
      ],
      "metadata": {
        "id": "701n_7gyCq7G"
      },
      "execution_count": 11,
      "outputs": []
    },
    {
      "cell_type": "code",
      "source": [
        "# compile model\n",
        "model.compile(optimizer=\"sgd\",\n",
        "              loss=\"binary_crossentropy\",\n",
        "              metrics=['accuracy'])"
      ],
      "metadata": {
        "id": "jyuREFCcCtuD"
      },
      "execution_count": 12,
      "outputs": []
    },
    {
      "cell_type": "code",
      "source": [
        "# train model\n",
        "model.fit(X_train, Y_train, epochs=100)"
      ],
      "metadata": {
        "colab": {
          "base_uri": "https://localhost:8080/"
        },
        "id": "fokHHntDCvHs",
        "outputId": "1ac82a1b-c124-4b11-beae-d5ab0a490053"
      },
      "execution_count": 13,
      "outputs": [
        {
          "output_type": "stream",
          "name": "stdout",
          "text": [
            "Epoch 1/100\n",
            "219/219 [==============================] - 2s 3ms/step - loss: 0.6408 - accuracy: 0.7483\n",
            "Epoch 2/100\n",
            "219/219 [==============================] - 1s 2ms/step - loss: 0.5601 - accuracy: 0.9177\n",
            "Epoch 3/100\n",
            "219/219 [==============================] - 1s 2ms/step - loss: 0.4607 - accuracy: 0.9236\n",
            "Epoch 4/100\n",
            "219/219 [==============================] - 1s 2ms/step - loss: 0.3634 - accuracy: 0.9236\n",
            "Epoch 5/100\n",
            "219/219 [==============================] - 1s 2ms/step - loss: 0.2927 - accuracy: 0.9221\n",
            "Epoch 6/100\n",
            "219/219 [==============================] - 1s 2ms/step - loss: 0.2492 - accuracy: 0.9251\n",
            "Epoch 7/100\n",
            "219/219 [==============================] - 0s 2ms/step - loss: 0.2244 - accuracy: 0.9230\n",
            "Epoch 8/100\n",
            "219/219 [==============================] - 0s 2ms/step - loss: 0.2099 - accuracy: 0.9229\n",
            "Epoch 9/100\n",
            "219/219 [==============================] - 1s 2ms/step - loss: 0.2015 - accuracy: 0.9231\n",
            "Epoch 10/100\n",
            "219/219 [==============================] - 1s 2ms/step - loss: 0.1962 - accuracy: 0.9216\n",
            "Epoch 11/100\n",
            "219/219 [==============================] - 0s 2ms/step - loss: 0.1926 - accuracy: 0.9236\n",
            "Epoch 12/100\n",
            "219/219 [==============================] - 0s 2ms/step - loss: 0.1907 - accuracy: 0.9249\n",
            "Epoch 13/100\n",
            "219/219 [==============================] - 1s 3ms/step - loss: 0.1892 - accuracy: 0.9229\n",
            "Epoch 14/100\n",
            "219/219 [==============================] - 1s 3ms/step - loss: 0.1882 - accuracy: 0.9231\n",
            "Epoch 15/100\n",
            "219/219 [==============================] - 1s 3ms/step - loss: 0.1878 - accuracy: 0.9240\n",
            "Epoch 16/100\n",
            "219/219 [==============================] - 1s 3ms/step - loss: 0.1868 - accuracy: 0.9236\n",
            "Epoch 17/100\n",
            "219/219 [==============================] - 1s 3ms/step - loss: 0.1866 - accuracy: 0.9234\n",
            "Epoch 18/100\n",
            "219/219 [==============================] - 1s 3ms/step - loss: 0.1862 - accuracy: 0.9221\n",
            "Epoch 19/100\n",
            "219/219 [==============================] - 1s 3ms/step - loss: 0.1860 - accuracy: 0.9243\n",
            "Epoch 20/100\n",
            "219/219 [==============================] - 0s 2ms/step - loss: 0.1856 - accuracy: 0.9237\n",
            "Epoch 21/100\n",
            "219/219 [==============================] - 0s 2ms/step - loss: 0.1857 - accuracy: 0.9231\n",
            "Epoch 22/100\n",
            "219/219 [==============================] - 0s 2ms/step - loss: 0.1857 - accuracy: 0.9247\n",
            "Epoch 23/100\n",
            "219/219 [==============================] - 0s 2ms/step - loss: 0.1857 - accuracy: 0.9229\n",
            "Epoch 24/100\n",
            "219/219 [==============================] - 0s 2ms/step - loss: 0.1852 - accuracy: 0.9220\n",
            "Epoch 25/100\n",
            "219/219 [==============================] - 1s 2ms/step - loss: 0.1850 - accuracy: 0.9223\n",
            "Epoch 26/100\n",
            "219/219 [==============================] - 0s 2ms/step - loss: 0.1843 - accuracy: 0.9246\n",
            "Epoch 27/100\n",
            "219/219 [==============================] - 0s 2ms/step - loss: 0.1850 - accuracy: 0.9246\n",
            "Epoch 28/100\n",
            "219/219 [==============================] - 0s 2ms/step - loss: 0.1855 - accuracy: 0.9237\n",
            "Epoch 29/100\n",
            "219/219 [==============================] - 1s 2ms/step - loss: 0.1846 - accuracy: 0.9227\n",
            "Epoch 30/100\n",
            "219/219 [==============================] - 0s 2ms/step - loss: 0.1852 - accuracy: 0.9234\n",
            "Epoch 31/100\n",
            "219/219 [==============================] - 0s 2ms/step - loss: 0.1851 - accuracy: 0.9243\n",
            "Epoch 32/100\n",
            "219/219 [==============================] - 0s 2ms/step - loss: 0.1851 - accuracy: 0.9237\n",
            "Epoch 33/100\n",
            "219/219 [==============================] - 1s 2ms/step - loss: 0.1845 - accuracy: 0.9244\n",
            "Epoch 34/100\n",
            "219/219 [==============================] - 1s 2ms/step - loss: 0.1851 - accuracy: 0.9231\n",
            "Epoch 35/100\n",
            "219/219 [==============================] - 1s 2ms/step - loss: 0.1848 - accuracy: 0.9234\n",
            "Epoch 36/100\n",
            "219/219 [==============================] - 0s 2ms/step - loss: 0.1852 - accuracy: 0.9233\n",
            "Epoch 37/100\n",
            "219/219 [==============================] - 1s 2ms/step - loss: 0.1849 - accuracy: 0.9231\n",
            "Epoch 38/100\n",
            "219/219 [==============================] - 0s 2ms/step - loss: 0.1847 - accuracy: 0.9243\n",
            "Epoch 39/100\n",
            "219/219 [==============================] - 1s 3ms/step - loss: 0.1845 - accuracy: 0.9234\n",
            "Epoch 40/100\n",
            "219/219 [==============================] - 1s 3ms/step - loss: 0.1851 - accuracy: 0.9227\n",
            "Epoch 41/100\n",
            "219/219 [==============================] - 1s 3ms/step - loss: 0.1847 - accuracy: 0.9230\n",
            "Epoch 42/100\n",
            "219/219 [==============================] - 1s 3ms/step - loss: 0.1848 - accuracy: 0.9239\n",
            "Epoch 43/100\n",
            "219/219 [==============================] - 1s 3ms/step - loss: 0.1844 - accuracy: 0.9237\n",
            "Epoch 44/100\n",
            "219/219 [==============================] - 1s 3ms/step - loss: 0.1848 - accuracy: 0.9229\n",
            "Epoch 45/100\n",
            "219/219 [==============================] - 1s 3ms/step - loss: 0.1841 - accuracy: 0.9227\n",
            "Epoch 46/100\n",
            "219/219 [==============================] - 0s 2ms/step - loss: 0.1846 - accuracy: 0.9236\n",
            "Epoch 47/100\n",
            "219/219 [==============================] - 1s 2ms/step - loss: 0.1842 - accuracy: 0.9250\n",
            "Epoch 48/100\n",
            "219/219 [==============================] - 0s 2ms/step - loss: 0.1847 - accuracy: 0.9230\n",
            "Epoch 49/100\n",
            "219/219 [==============================] - 1s 2ms/step - loss: 0.1844 - accuracy: 0.9234\n",
            "Epoch 50/100\n",
            "219/219 [==============================] - 0s 2ms/step - loss: 0.1847 - accuracy: 0.9227\n",
            "Epoch 51/100\n",
            "219/219 [==============================] - 0s 2ms/step - loss: 0.1844 - accuracy: 0.9239\n",
            "Epoch 52/100\n",
            "219/219 [==============================] - 0s 2ms/step - loss: 0.1842 - accuracy: 0.9231\n",
            "Epoch 53/100\n",
            "219/219 [==============================] - 0s 2ms/step - loss: 0.1843 - accuracy: 0.9230\n",
            "Epoch 54/100\n",
            "219/219 [==============================] - 1s 2ms/step - loss: 0.1844 - accuracy: 0.9241\n",
            "Epoch 55/100\n",
            "219/219 [==============================] - 0s 2ms/step - loss: 0.1839 - accuracy: 0.9230\n",
            "Epoch 56/100\n",
            "219/219 [==============================] - 0s 2ms/step - loss: 0.1844 - accuracy: 0.9229\n",
            "Epoch 57/100\n",
            "219/219 [==============================] - 0s 2ms/step - loss: 0.1843 - accuracy: 0.9233\n",
            "Epoch 58/100\n",
            "219/219 [==============================] - 0s 2ms/step - loss: 0.1842 - accuracy: 0.9233\n",
            "Epoch 59/100\n",
            "219/219 [==============================] - 0s 2ms/step - loss: 0.1843 - accuracy: 0.9246\n",
            "Epoch 60/100\n",
            "219/219 [==============================] - 0s 2ms/step - loss: 0.1839 - accuracy: 0.9249\n",
            "Epoch 61/100\n",
            "219/219 [==============================] - 0s 2ms/step - loss: 0.1835 - accuracy: 0.9244\n",
            "Epoch 62/100\n",
            "219/219 [==============================] - 0s 2ms/step - loss: 0.1841 - accuracy: 0.9246\n",
            "Epoch 63/100\n",
            "219/219 [==============================] - 0s 2ms/step - loss: 0.1840 - accuracy: 0.9230\n",
            "Epoch 64/100\n",
            "219/219 [==============================] - 0s 2ms/step - loss: 0.1842 - accuracy: 0.9237\n",
            "Epoch 65/100\n",
            "219/219 [==============================] - 0s 2ms/step - loss: 0.1843 - accuracy: 0.9236\n",
            "Epoch 66/100\n",
            "219/219 [==============================] - 1s 3ms/step - loss: 0.1837 - accuracy: 0.9236\n",
            "Epoch 67/100\n",
            "219/219 [==============================] - 1s 3ms/step - loss: 0.1840 - accuracy: 0.9233\n",
            "Epoch 68/100\n",
            "219/219 [==============================] - 1s 3ms/step - loss: 0.1840 - accuracy: 0.9240\n",
            "Epoch 69/100\n",
            "219/219 [==============================] - 1s 4ms/step - loss: 0.1842 - accuracy: 0.9236\n",
            "Epoch 70/100\n",
            "219/219 [==============================] - 1s 3ms/step - loss: 0.1838 - accuracy: 0.9253\n",
            "Epoch 71/100\n",
            "219/219 [==============================] - 1s 3ms/step - loss: 0.1840 - accuracy: 0.9227\n",
            "Epoch 72/100\n",
            "219/219 [==============================] - 0s 2ms/step - loss: 0.1843 - accuracy: 0.9229\n",
            "Epoch 73/100\n",
            "219/219 [==============================] - 0s 2ms/step - loss: 0.1844 - accuracy: 0.9233\n",
            "Epoch 74/100\n",
            "219/219 [==============================] - 1s 2ms/step - loss: 0.1841 - accuracy: 0.9229\n",
            "Epoch 75/100\n",
            "219/219 [==============================] - 1s 2ms/step - loss: 0.1838 - accuracy: 0.9239\n",
            "Epoch 76/100\n",
            "219/219 [==============================] - 1s 2ms/step - loss: 0.1840 - accuracy: 0.9243\n",
            "Epoch 77/100\n",
            "219/219 [==============================] - 0s 2ms/step - loss: 0.1842 - accuracy: 0.9243\n",
            "Epoch 78/100\n",
            "219/219 [==============================] - 0s 2ms/step - loss: 0.1838 - accuracy: 0.9241\n",
            "Epoch 79/100\n",
            "219/219 [==============================] - 0s 2ms/step - loss: 0.1839 - accuracy: 0.9221\n",
            "Epoch 80/100\n",
            "219/219 [==============================] - 1s 2ms/step - loss: 0.1843 - accuracy: 0.9241\n",
            "Epoch 81/100\n",
            "219/219 [==============================] - 1s 2ms/step - loss: 0.1839 - accuracy: 0.9237\n",
            "Epoch 82/100\n",
            "219/219 [==============================] - 0s 2ms/step - loss: 0.1838 - accuracy: 0.9234\n",
            "Epoch 83/100\n",
            "219/219 [==============================] - 0s 2ms/step - loss: 0.1836 - accuracy: 0.9243\n",
            "Epoch 84/100\n",
            "219/219 [==============================] - 0s 2ms/step - loss: 0.1835 - accuracy: 0.9224\n",
            "Epoch 85/100\n",
            "219/219 [==============================] - 0s 2ms/step - loss: 0.1840 - accuracy: 0.9229\n",
            "Epoch 86/100\n",
            "219/219 [==============================] - 0s 2ms/step - loss: 0.1833 - accuracy: 0.9244\n",
            "Epoch 87/100\n",
            "219/219 [==============================] - 1s 2ms/step - loss: 0.1836 - accuracy: 0.9241\n",
            "Epoch 88/100\n",
            "219/219 [==============================] - 0s 2ms/step - loss: 0.1833 - accuracy: 0.9251\n",
            "Epoch 89/100\n",
            "219/219 [==============================] - 0s 2ms/step - loss: 0.1837 - accuracy: 0.9230\n",
            "Epoch 90/100\n",
            "219/219 [==============================] - 0s 2ms/step - loss: 0.1836 - accuracy: 0.9239\n",
            "Epoch 91/100\n",
            "219/219 [==============================] - 1s 2ms/step - loss: 0.1833 - accuracy: 0.9251\n",
            "Epoch 92/100\n",
            "219/219 [==============================] - 1s 3ms/step - loss: 0.1837 - accuracy: 0.9237\n",
            "Epoch 93/100\n",
            "219/219 [==============================] - 1s 3ms/step - loss: 0.1836 - accuracy: 0.9233\n",
            "Epoch 94/100\n",
            "219/219 [==============================] - 1s 3ms/step - loss: 0.1840 - accuracy: 0.9239\n",
            "Epoch 95/100\n",
            "219/219 [==============================] - 1s 3ms/step - loss: 0.1832 - accuracy: 0.9253\n",
            "Epoch 96/100\n",
            "219/219 [==============================] - 1s 3ms/step - loss: 0.1832 - accuracy: 0.9251\n",
            "Epoch 97/100\n",
            "219/219 [==============================] - 1s 3ms/step - loss: 0.1838 - accuracy: 0.9226\n",
            "Epoch 98/100\n",
            "219/219 [==============================] - 0s 2ms/step - loss: 0.1833 - accuracy: 0.9257\n",
            "Epoch 99/100\n",
            "219/219 [==============================] - 1s 2ms/step - loss: 0.1834 - accuracy: 0.9240\n",
            "Epoch 100/100\n",
            "219/219 [==============================] - 0s 2ms/step - loss: 0.1835 - accuracy: 0.9230\n"
          ]
        },
        {
          "output_type": "execute_result",
          "data": {
            "text/plain": [
              "<keras.src.callbacks.History at 0x7c2ed0657ca0>"
            ]
          },
          "metadata": {},
          "execution_count": 13
        }
      ]
    },
    {
      "cell_type": "code",
      "source": [
        "# evaluate model\n",
        "# first element is loss, and second is accuracy\n",
        "model.evaluate(X_test, Y_test)"
      ],
      "metadata": {
        "colab": {
          "base_uri": "https://localhost:8080/"
        },
        "id": "Be8ifqoKCwZ6",
        "outputId": "5432a3e7-78fd-4ce8-e982-41902e3131c6"
      },
      "execution_count": 14,
      "outputs": [
        {
          "output_type": "stream",
          "name": "stdout",
          "text": [
            "94/94 [==============================] - 0s 2ms/step - loss: 0.1632 - accuracy: 0.9363\n"
          ]
        },
        {
          "output_type": "execute_result",
          "data": {
            "text/plain": [
              "[0.16316649317741394, 0.9363333582878113]"
            ]
          },
          "metadata": {},
          "execution_count": 14
        }
      ]
    },
    {
      "cell_type": "code",
      "source": [
        "# predict using model\n",
        "new_data = np.array([[7.86, 146.34, 154, 69, 16]])\n",
        "new_data_scaled = min_max_scaler.fit_transform(new_data)\n",
        "new_prediction = model.predict(new_data_scaled)\n",
        "\n",
        "threshold = 0.5\n",
        "if new_prediction >= threshold:\n",
        "  print('orange')\n",
        "else:\n",
        "  print('grapefruit')"
      ],
      "metadata": {
        "colab": {
          "base_uri": "https://localhost:8080/"
        },
        "id": "aDJKI7-6CyTw",
        "outputId": "f00fab97-9fb1-4505-eba9-ce07ae9fd546"
      },
      "execution_count": 15,
      "outputs": [
        {
          "output_type": "stream",
          "name": "stdout",
          "text": [
            "1/1 [==============================] - 0s 90ms/step\n",
            "grapefruit\n"
          ]
        }
      ]
    }
  ]
}