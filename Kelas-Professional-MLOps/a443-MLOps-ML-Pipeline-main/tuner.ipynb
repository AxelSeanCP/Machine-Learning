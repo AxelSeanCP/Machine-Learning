{
 "cells": [
  {
   "cell_type": "code",
   "execution_count": null,
   "metadata": {},
   "outputs": [],
   "source": [
    "def tuner_fn(fn_args):\n",
    "    \"\"\"Build the tuner using the KerasTuner API.\n",
    "    Args:\n",
    "    fn_args: Holds args used to tune models as name/value pairs.\n",
    "    \n",
    "    Returns:\n",
    "    A namedtuple contains the following:\n",
    "        - tuner: A BaseTuner that will be used for tuning.\n",
    "        - fit_kwargs: Args to pass to tuner's run_trial function for fitting the\n",
    "                    model , e.g., the training and validation dataset. Required\n",
    "                    args depend on the above tuner's implementation.\n",
    "    \"\"\"\n",
    "    # Memuat training dan validation dataset yang telah di-preprocessing\n",
    "    tf_transform_output = tft.TFTransformOutput(fn_args.transform_graph_path)\n",
    "    train_set = input_fn(fn_args.train_files[0], tf_transform_output)\n",
    "    val_set = input_fn(fn_args.eval_files[0], tf_transform_output)\n",
    "    \n",
    "    # Mendefinisikan strategi hyperparameter tuning\n",
    "    tuner = kt.Hyperband(model_builder,\n",
    "                        objective='val_accuracy',\n",
    "                        max_epochs=10,\n",
    "                        factor=3,\n",
    "                        directory=fn_args.working_dir,\n",
    "                        project_name='kt_hyperband')\n",
    "    \n",
    "    return TunerFnResult(\n",
    "        tuner=tuner,\n",
    "        fit_kwargs={ \n",
    "            \"callbacks\":[stop_early],\n",
    "            'x': train_set,\n",
    "            'validation_data': val_set,\n",
    "            'steps_per_epoch': fn_args.train_steps,\n",
    "            'validation_steps': fn_args.eval_steps\n",
    "        }\n",
    "    )"
   ]
  },
  {
   "cell_type": "code",
   "execution_count": null,
   "metadata": {},
   "outputs": [],
   "source": [
    "from tfx.components import Tuner\n",
    "from tfx.proto import trainer_pb2\n",
    "    \n",
    "tuner = Tuner(\n",
    "    module_file=tuner_module_file,\n",
    "    examples=transform.outputs['transformed_examples'],\n",
    "    transform_graph=transform.outputs['transform_graph'],\n",
    "    schema=schema_gen.outputs['schema'],\n",
    "    train_args=trainer_pb2.TrainArgs(splits=['train'], num_steps=500),\n",
    "    eval_args=trainer_pb2.EvalArgs(splits=['eval'], num_steps=100)\n",
    "    )\n",
    "    \n",
    "interactive_context(tuner)"
   ]
  }
 ],
 "metadata": {
  "language_info": {
   "name": "python"
  }
 },
 "nbformat": 4,
 "nbformat_minor": 2
}
